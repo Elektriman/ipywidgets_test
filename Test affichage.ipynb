{
 "cells": [
  {
   "cell_type": "markdown",
   "id": "4c3873f7",
   "metadata": {},
   "source": [
    "# affichage des données labo"
   ]
  },
  {
   "cell_type": "markdown",
   "id": "e2adf976",
   "metadata": {},
   "source": [
    "## import des bibliothèques"
   ]
  },
  {
   "cell_type": "code",
   "execution_count": 10,
   "id": "755721e8",
   "metadata": {},
   "outputs": [],
   "source": [
    "%matplotlib notebook\n",
    "\n",
    "import numpy as np\n",
    "import pandas as pd\n",
    "import matplotlib.pyplot as plt\n",
    "import seaborn as sns\n",
    "import pyodbc\n",
    "import os\n",
    "\n",
    "from datetime import datetime, timezone, timedelta, date\n",
    "from sqlalchemy.engine import URL\n",
    "from sqlalchemy.engine import create_engine\n",
    "from sqlalchemy import text\n",
    "\n",
    "import ipywidgets as widgets\n",
    "from IPython.display import display as Idisplay\n",
    "from ipywidgets.embed import embed_minimal_html\n",
    "\n",
    "import warnings"
   ]
  },
  {
   "cell_type": "code",
   "execution_count": 2,
   "id": "c619d739",
   "metadata": {},
   "outputs": [],
   "source": [
    "warnings.filterwarnings('ignore')"
   ]
  },
  {
   "cell_type": "markdown",
   "id": "7a8459d4",
   "metadata": {},
   "source": [
    "## import des données"
   ]
  },
  {
   "cell_type": "code",
   "execution_count": 3,
   "id": "e12cc450",
   "metadata": {
    "scrolled": false
   },
   "outputs": [],
   "source": [
    "co_str = 'DRIVER={SQL Server Native Client 11.0};SERVER=ISTEF047756;DATABASE=donnees_labo;Trusted_Connection=yes;'\n",
    "connection_url = URL.create(\"mssql+pyodbc\", query={\"odbc_connect\": co_str})\n",
    "engine = create_engine(connection_url)\n",
    "\n",
    "with engine.connect() as conn :\n",
    "    query = \"SELECT * FROM Temperatures_machines_2 ORDER BY TIME_INDEX\"\n",
    "    Temp_mach = pd.read_sql(query, conn, parse_dates={\"TIME_INDEX\":{\"format\":\"%Y-%m-%d %H/%M/%S:%f\"}})"
   ]
  },
  {
   "cell_type": "markdown",
   "id": "eb27283d",
   "metadata": {},
   "source": [
    "## affichage dynamique"
   ]
  },
  {
   "cell_type": "code",
   "execution_count": 4,
   "id": "dd42286e",
   "metadata": {
    "scrolled": true
   },
   "outputs": [
    {
     "data": {
      "text/plain": [
       "['Accordion',\n",
       " 'AppLayout',\n",
       " 'Audio',\n",
       " 'BoundedFloatText',\n",
       " 'BoundedIntText',\n",
       " 'Box',\n",
       " 'Button',\n",
       " 'ButtonStyle',\n",
       " 'CallbackDispatcher',\n",
       " 'Checkbox',\n",
       " 'Color',\n",
       " 'ColorPicker',\n",
       " 'ColorsInput',\n",
       " 'Combobox',\n",
       " 'Controller',\n",
       " 'CoreWidget',\n",
       " 'DOMWidget',\n",
       " 'DatePicker',\n",
       " 'Datetime',\n",
       " 'DatetimePicker',\n",
       " 'Dropdown',\n",
       " 'FileUpload',\n",
       " 'FloatLogSlider',\n",
       " 'FloatProgress',\n",
       " 'FloatRangeSlider',\n",
       " 'FloatSlider',\n",
       " 'FloatText',\n",
       " 'FloatsInput',\n",
       " 'GridBox',\n",
       " 'GridspecLayout',\n",
       " 'HBox',\n",
       " 'HTML',\n",
       " 'HTMLMath',\n",
       " 'Image',\n",
       " 'IntProgress',\n",
       " 'IntRangeSlider',\n",
       " 'IntSlider',\n",
       " 'IntText',\n",
       " 'IntsInput',\n",
       " 'Label',\n",
       " 'Layout',\n",
       " 'NaiveDatetimePicker',\n",
       " 'NumberFormat',\n",
       " 'Output',\n",
       " 'Password',\n",
       " 'Play',\n",
       " 'RadioButtons',\n",
       " 'Select',\n",
       " 'SelectMultiple',\n",
       " 'SelectionRangeSlider',\n",
       " 'SelectionSlider',\n",
       " 'SliderStyle',\n",
       " 'Stack',\n",
       " 'Style',\n",
       " 'Tab',\n",
       " 'TagsInput',\n",
       " 'Text',\n",
       " 'Textarea',\n",
       " 'TimePicker',\n",
       " 'ToggleButton',\n",
       " 'ToggleButtons',\n",
       " 'ToggleButtonsStyle',\n",
       " 'TwoByTwoLayout',\n",
       " 'TypedTuple',\n",
       " 'VBox',\n",
       " 'Valid',\n",
       " 'ValueWidget',\n",
       " 'Video',\n",
       " 'Widget',\n",
       " '__builtins__',\n",
       " '__cached__',\n",
       " '__doc__',\n",
       " '__file__',\n",
       " '__jupyter_widgets_base_version__',\n",
       " '__jupyter_widgets_controls_version__',\n",
       " '__loader__',\n",
       " '__name__',\n",
       " '__package__',\n",
       " '__path__',\n",
       " '__protocol_version__',\n",
       " '__spec__',\n",
       " '__version__',\n",
       " '_handle_ipython',\n",
       " '_version',\n",
       " 'dlink',\n",
       " 'docutils',\n",
       " 'domwidget',\n",
       " 'fixed',\n",
       " 'get_ipython',\n",
       " 'interact',\n",
       " 'interact_manual',\n",
       " 'interaction',\n",
       " 'interactive',\n",
       " 'interactive_output',\n",
       " 'jsdlink',\n",
       " 'jslink',\n",
       " 'link',\n",
       " 'load_ipython_extension',\n",
       " 'os',\n",
       " 'register',\n",
       " 'register_comm_target',\n",
       " 'trait_types',\n",
       " 'valuewidget',\n",
       " 'widget',\n",
       " 'widget_bool',\n",
       " 'widget_box',\n",
       " 'widget_button',\n",
       " 'widget_color',\n",
       " 'widget_controller',\n",
       " 'widget_core',\n",
       " 'widget_date',\n",
       " 'widget_datetime',\n",
       " 'widget_description',\n",
       " 'widget_float',\n",
       " 'widget_int',\n",
       " 'widget_layout',\n",
       " 'widget_link',\n",
       " 'widget_media',\n",
       " 'widget_output',\n",
       " 'widget_selection',\n",
       " 'widget_selectioncontainer',\n",
       " 'widget_serialization',\n",
       " 'widget_string',\n",
       " 'widget_style',\n",
       " 'widget_tagsinput',\n",
       " 'widget_templates',\n",
       " 'widget_time',\n",
       " 'widget_upload',\n",
       " 'widgets']"
      ]
     },
     "execution_count": 4,
     "metadata": {},
     "output_type": "execute_result"
    }
   ],
   "source": [
    "dir(widgets)"
   ]
  },
  {
   "cell_type": "markdown",
   "id": "e445d71f",
   "metadata": {},
   "source": [
    "### définition des widgets"
   ]
  },
  {
   "cell_type": "code",
   "execution_count": 5,
   "id": "65e354be",
   "metadata": {},
   "outputs": [],
   "source": [
    "start_date = widgets.NaiveDatetimePicker(description=\"date de début\", value=datetime(2022, 1, 1))\n",
    "end_date = widgets.NaiveDatetimePicker(description=\"date de fin\", value=max(Temp_mach[\"TIME_INDEX\"]))\n",
    "columns = [widgets.Checkbox(description=col, value=False) for col in Temp_mach.columns[1:]]\n",
    "accordion = widgets.Accordion(children=[widgets.VBox(columns)], selected_index = None)\n",
    "accordion.set_title(0, \"Machines à afficher\")\n",
    "m,M = 0, 120\n",
    "Ycut = widgets.FloatRangeSlider(description=\"filtre\", value=[m,M], min=0, max=120, step=0.1, readout_format='.1f')\n",
    "\n",
    "Boxes_states = {k:False for k in Temp_mach.columns[1:]}\n",
    "colors = [\"orange\", \"C01\",\n",
    "              \"lightblue\", \"lightskyblue\", \"deepskyblue\", \"dodgerblue\", \"royalblue\",\n",
    "              \"mediumseagreen\", \"mediumaquamarine\",\n",
    "              \"crimson\"]\n",
    "color_dict = {desc:c for desc,c in zip(Temp_mach.columns[1:],colors)}"
   ]
  },
  {
   "cell_type": "code",
   "execution_count": 6,
   "id": "c196dd0d",
   "metadata": {},
   "outputs": [],
   "source": [
    "COLORMAP = {\"Etuve1\":\"orange\",\n",
    "            \"Etuve2\":\"C01\",\n",
    "            \"Refregirateur1\":\"lightblue\", \n",
    "            \"Refregirateur2\":\"lightskyblue\", \n",
    "            \"Refregirateur3\":\"deepskyblue\", \n",
    "            \"Refregirateur4\":\"dodgerblue\", \n",
    "            \"Refregirateur5\":\"royalblue\",\n",
    "            \"Incubateur1\":\"mediumseagreen\", \n",
    "            \"Incubateur2\":\"mediumaquamarine\",\n",
    "            \"Preleveur1\":\"crimson\"}"
   ]
  },
  {
   "cell_type": "code",
   "execution_count": 7,
   "id": "f00d1784",
   "metadata": {},
   "outputs": [],
   "source": [
    "class Displayer :\n",
    "    DEFAULT_COLORS = COLORMAP\n",
    "    \n",
    "    def __init__(self, DS, fig, axis):\n",
    "        self.dataset = DS\n",
    "        self.X = DS[\"TIME_INDEX\"]\n",
    "        self.d_start = min(self.dataset[\"TIME_INDEX\"])\n",
    "        self.d_end = max(self.dataset[\"TIME_INDEX\"])\n",
    "        self.ymin = 100\n",
    "        self.ymax = 120\n",
    "        self.mask = np.full(len(self.X), True)\n",
    "        self.plot_func = \"plot\"\n",
    "        self.fig = fig\n",
    "        self.ax = axis\n",
    "        self.colors = self.DEFAULT_COLORS\n",
    "        self.out = widgets.Output()\n",
    "    \n",
    "    def edit_colormap(self, key, color):\n",
    "        self.colors[key] = color\n",
    "    \n",
    "    def change_plot_func(self, new_func):\n",
    "        self.plot_func = new_func\n",
    "    \n",
    "    def change_dates(self, new_date_start=None, new_date_end=None):\n",
    "        if new_date_start :\n",
    "            self.d_start = new_date_start\n",
    "        if new_date_end :\n",
    "            self.d_end = new_date_end\n",
    "        self._UPDATE_MASK()\n",
    "    \n",
    "    def change_ylim(self, new_ymin=None, new_ymax=None):\n",
    "        if new_ymin :\n",
    "            self.ymin = new_ymin\n",
    "        if new_ymax :\n",
    "            self.ymax = new_ymax\n",
    "    \n",
    "    def _UPDATE_MASK(self):\n",
    "        self.mask = np.array([self.d_start <= date <= self.d_end for date in self.X])\n",
    "    \n",
    "    def _PLOT(self, Boxes):\n",
    "        fig, ax = self.fig, self.ax\n",
    "        ax.clear()\n",
    "        for col,val in Boxes.items() :\n",
    "            if val :\n",
    "                M = self.mask * np.array([(not np.isnan(val)) and (self.ymin<=val<=self.ymax) for val in self.dataset[col]])\n",
    "                ax.plot(self.X[M], \n",
    "                        self.dataset[col][M], \n",
    "                        color=self.colors[col],\n",
    "                        label=col,\n",
    "                        zorder=1)\n",
    "        \n",
    "        ax.tick_params(axis='x', rotation=90)\n",
    "        ax.grid(zorder=0)\n",
    "        ax.legend()\n",
    "        fig.tight_layout()\n",
    "        plt.show()\n",
    "    \n",
    "    def _SCATTER(self, Boxes):\n",
    "        fig, ax = self.fig, self.ax\n",
    "        ax.clear()\n",
    "        for col,val in Boxes.items() :\n",
    "            if val :\n",
    "                M = self.mask * np.array([(not np.isnan(val)) and (self.ymin<=val<=self.ymax) for val in self.dataset[col]])\n",
    "                ax.scatter(self.X[M], \n",
    "                           self.dataset[col][M], \n",
    "                           color=self.colors[col],\n",
    "                           s=list([50,20,5]+[1]*5)[int(np.log10(len(self.X[M])))],\n",
    "                           label=col,\n",
    "                           zorder=1)\n",
    "        ax.tick_params(axis='x', rotation=90)\n",
    "        ax.grid(zorder=0)\n",
    "        ax.legend()\n",
    "        fig.tight_layout()\n",
    "        plt.show()\n",
    "    \n",
    "    def _BOXPLOT(self, Boxes):\n",
    "        fig, ax = self.fig, self.ax\n",
    "        ax.clear()\n",
    "        input_data = {}\n",
    "        for col,val in Boxes.items() :\n",
    "            if val :\n",
    "                M = self.mask * np.array([(not np.isnan(val)) and (self.ymin<=val<=self.ymax) for val in self.dataset[col]])\n",
    "                input_data[col] = self.dataset[col][M]\n",
    "        ax.boxplot(x=input_data.values(), \n",
    "                   vert=True,\n",
    "                   labels = input_data.keys(), \n",
    "                   meanline=True,\n",
    "                   sym='')\n",
    "        \n",
    "        ax.tick_params(axis='x', rotation=90)\n",
    "        fig.tight_layout()\n",
    "        plt.show()\n",
    "    \n",
    "    def _VIOLINPLOT(self, Boxes):\n",
    "        fig, ax = self.fig, self.ax\n",
    "        ax.clear()\n",
    "        input_data = {}\n",
    "        for col,val in Boxes.items() :\n",
    "            if val :\n",
    "                M = self.mask * np.array([(not np.isnan(val)) and (self.ymin<=val<=self.ymax) for val in self.dataset[col]])\n",
    "                input_data[col] = self.dataset[col][M]\n",
    "        sns.violinplot(data=list(input_data.values()),\n",
    "                       ax=ax)\n",
    "        \n",
    "        ax.tick_params(axis='x', rotation=90)\n",
    "        fig.tight_layout()\n",
    "        plt.show()\n",
    "\n",
    "    def display(self, Boxes):\n",
    "        self.out.clear_output()\n",
    "        with self.out :\n",
    "            if self.plot_func == \"plot\" :\n",
    "                self._PLOT(Boxes)\n",
    "            if self.plot_func == \"scatter\" :\n",
    "                self._SCATTER(Boxes)\n",
    "            if self.plot_func == \"boxplot\" :\n",
    "                self._BOXPLOT(Boxes)\n",
    "            if self.plot_func == \"violinplot\" :\n",
    "                self._VIOLINPLOT(Boxes)\n",
    "        Idisplay(self.out)"
   ]
  },
  {
   "cell_type": "code",
   "execution_count": 8,
   "id": "2d865f96",
   "metadata": {
    "scrolled": false
   },
   "outputs": [
    {
     "data": {
      "application/javascript": [
       "/* Put everything inside the global mpl namespace */\n",
       "/* global mpl */\n",
       "window.mpl = {};\n",
       "\n",
       "mpl.get_websocket_type = function () {\n",
       "    if (typeof WebSocket !== 'undefined') {\n",
       "        return WebSocket;\n",
       "    } else if (typeof MozWebSocket !== 'undefined') {\n",
       "        return MozWebSocket;\n",
       "    } else {\n",
       "        alert(\n",
       "            'Your browser does not have WebSocket support. ' +\n",
       "                'Please try Chrome, Safari or Firefox ≥ 6. ' +\n",
       "                'Firefox 4 and 5 are also supported but you ' +\n",
       "                'have to enable WebSockets in about:config.'\n",
       "        );\n",
       "    }\n",
       "};\n",
       "\n",
       "mpl.figure = function (figure_id, websocket, ondownload, parent_element) {\n",
       "    this.id = figure_id;\n",
       "\n",
       "    this.ws = websocket;\n",
       "\n",
       "    this.supports_binary = this.ws.binaryType !== undefined;\n",
       "\n",
       "    if (!this.supports_binary) {\n",
       "        var warnings = document.getElementById('mpl-warnings');\n",
       "        if (warnings) {\n",
       "            warnings.style.display = 'block';\n",
       "            warnings.textContent =\n",
       "                'This browser does not support binary websocket messages. ' +\n",
       "                'Performance may be slow.';\n",
       "        }\n",
       "    }\n",
       "\n",
       "    this.imageObj = new Image();\n",
       "\n",
       "    this.context = undefined;\n",
       "    this.message = undefined;\n",
       "    this.canvas = undefined;\n",
       "    this.rubberband_canvas = undefined;\n",
       "    this.rubberband_context = undefined;\n",
       "    this.format_dropdown = undefined;\n",
       "\n",
       "    this.image_mode = 'full';\n",
       "\n",
       "    this.root = document.createElement('div');\n",
       "    this.root.setAttribute('style', 'display: inline-block');\n",
       "    this._root_extra_style(this.root);\n",
       "\n",
       "    parent_element.appendChild(this.root);\n",
       "\n",
       "    this._init_header(this);\n",
       "    this._init_canvas(this);\n",
       "    this._init_toolbar(this);\n",
       "\n",
       "    var fig = this;\n",
       "\n",
       "    this.waiting = false;\n",
       "\n",
       "    this.ws.onopen = function () {\n",
       "        fig.send_message('supports_binary', { value: fig.supports_binary });\n",
       "        fig.send_message('send_image_mode', {});\n",
       "        if (fig.ratio !== 1) {\n",
       "            fig.send_message('set_device_pixel_ratio', {\n",
       "                device_pixel_ratio: fig.ratio,\n",
       "            });\n",
       "        }\n",
       "        fig.send_message('refresh', {});\n",
       "    };\n",
       "\n",
       "    this.imageObj.onload = function () {\n",
       "        if (fig.image_mode === 'full') {\n",
       "            // Full images could contain transparency (where diff images\n",
       "            // almost always do), so we need to clear the canvas so that\n",
       "            // there is no ghosting.\n",
       "            fig.context.clearRect(0, 0, fig.canvas.width, fig.canvas.height);\n",
       "        }\n",
       "        fig.context.drawImage(fig.imageObj, 0, 0);\n",
       "    };\n",
       "\n",
       "    this.imageObj.onunload = function () {\n",
       "        fig.ws.close();\n",
       "    };\n",
       "\n",
       "    this.ws.onmessage = this._make_on_message_function(this);\n",
       "\n",
       "    this.ondownload = ondownload;\n",
       "};\n",
       "\n",
       "mpl.figure.prototype._init_header = function () {\n",
       "    var titlebar = document.createElement('div');\n",
       "    titlebar.classList =\n",
       "        'ui-dialog-titlebar ui-widget-header ui-corner-all ui-helper-clearfix';\n",
       "    var titletext = document.createElement('div');\n",
       "    titletext.classList = 'ui-dialog-title';\n",
       "    titletext.setAttribute(\n",
       "        'style',\n",
       "        'width: 100%; text-align: center; padding: 3px;'\n",
       "    );\n",
       "    titlebar.appendChild(titletext);\n",
       "    this.root.appendChild(titlebar);\n",
       "    this.header = titletext;\n",
       "};\n",
       "\n",
       "mpl.figure.prototype._canvas_extra_style = function (_canvas_div) {};\n",
       "\n",
       "mpl.figure.prototype._root_extra_style = function (_canvas_div) {};\n",
       "\n",
       "mpl.figure.prototype._init_canvas = function () {\n",
       "    var fig = this;\n",
       "\n",
       "    var canvas_div = (this.canvas_div = document.createElement('div'));\n",
       "    canvas_div.setAttribute(\n",
       "        'style',\n",
       "        'border: 1px solid #ddd;' +\n",
       "            'box-sizing: content-box;' +\n",
       "            'clear: both;' +\n",
       "            'min-height: 1px;' +\n",
       "            'min-width: 1px;' +\n",
       "            'outline: 0;' +\n",
       "            'overflow: hidden;' +\n",
       "            'position: relative;' +\n",
       "            'resize: both;'\n",
       "    );\n",
       "\n",
       "    function on_keyboard_event_closure(name) {\n",
       "        return function (event) {\n",
       "            return fig.key_event(event, name);\n",
       "        };\n",
       "    }\n",
       "\n",
       "    canvas_div.addEventListener(\n",
       "        'keydown',\n",
       "        on_keyboard_event_closure('key_press')\n",
       "    );\n",
       "    canvas_div.addEventListener(\n",
       "        'keyup',\n",
       "        on_keyboard_event_closure('key_release')\n",
       "    );\n",
       "\n",
       "    this._canvas_extra_style(canvas_div);\n",
       "    this.root.appendChild(canvas_div);\n",
       "\n",
       "    var canvas = (this.canvas = document.createElement('canvas'));\n",
       "    canvas.classList.add('mpl-canvas');\n",
       "    canvas.setAttribute('style', 'box-sizing: content-box;');\n",
       "\n",
       "    this.context = canvas.getContext('2d');\n",
       "\n",
       "    var backingStore =\n",
       "        this.context.backingStorePixelRatio ||\n",
       "        this.context.webkitBackingStorePixelRatio ||\n",
       "        this.context.mozBackingStorePixelRatio ||\n",
       "        this.context.msBackingStorePixelRatio ||\n",
       "        this.context.oBackingStorePixelRatio ||\n",
       "        this.context.backingStorePixelRatio ||\n",
       "        1;\n",
       "\n",
       "    this.ratio = (window.devicePixelRatio || 1) / backingStore;\n",
       "\n",
       "    var rubberband_canvas = (this.rubberband_canvas = document.createElement(\n",
       "        'canvas'\n",
       "    ));\n",
       "    rubberband_canvas.setAttribute(\n",
       "        'style',\n",
       "        'box-sizing: content-box; position: absolute; left: 0; top: 0; z-index: 1;'\n",
       "    );\n",
       "\n",
       "    // Apply a ponyfill if ResizeObserver is not implemented by browser.\n",
       "    if (this.ResizeObserver === undefined) {\n",
       "        if (window.ResizeObserver !== undefined) {\n",
       "            this.ResizeObserver = window.ResizeObserver;\n",
       "        } else {\n",
       "            var obs = _JSXTOOLS_RESIZE_OBSERVER({});\n",
       "            this.ResizeObserver = obs.ResizeObserver;\n",
       "        }\n",
       "    }\n",
       "\n",
       "    this.resizeObserverInstance = new this.ResizeObserver(function (entries) {\n",
       "        var nentries = entries.length;\n",
       "        for (var i = 0; i < nentries; i++) {\n",
       "            var entry = entries[i];\n",
       "            var width, height;\n",
       "            if (entry.contentBoxSize) {\n",
       "                if (entry.contentBoxSize instanceof Array) {\n",
       "                    // Chrome 84 implements new version of spec.\n",
       "                    width = entry.contentBoxSize[0].inlineSize;\n",
       "                    height = entry.contentBoxSize[0].blockSize;\n",
       "                } else {\n",
       "                    // Firefox implements old version of spec.\n",
       "                    width = entry.contentBoxSize.inlineSize;\n",
       "                    height = entry.contentBoxSize.blockSize;\n",
       "                }\n",
       "            } else {\n",
       "                // Chrome <84 implements even older version of spec.\n",
       "                width = entry.contentRect.width;\n",
       "                height = entry.contentRect.height;\n",
       "            }\n",
       "\n",
       "            // Keep the size of the canvas and rubber band canvas in sync with\n",
       "            // the canvas container.\n",
       "            if (entry.devicePixelContentBoxSize) {\n",
       "                // Chrome 84 implements new version of spec.\n",
       "                canvas.setAttribute(\n",
       "                    'width',\n",
       "                    entry.devicePixelContentBoxSize[0].inlineSize\n",
       "                );\n",
       "                canvas.setAttribute(\n",
       "                    'height',\n",
       "                    entry.devicePixelContentBoxSize[0].blockSize\n",
       "                );\n",
       "            } else {\n",
       "                canvas.setAttribute('width', width * fig.ratio);\n",
       "                canvas.setAttribute('height', height * fig.ratio);\n",
       "            }\n",
       "            canvas.setAttribute(\n",
       "                'style',\n",
       "                'width: ' + width + 'px; height: ' + height + 'px;'\n",
       "            );\n",
       "\n",
       "            rubberband_canvas.setAttribute('width', width);\n",
       "            rubberband_canvas.setAttribute('height', height);\n",
       "\n",
       "            // And update the size in Python. We ignore the initial 0/0 size\n",
       "            // that occurs as the element is placed into the DOM, which should\n",
       "            // otherwise not happen due to the minimum size styling.\n",
       "            if (fig.ws.readyState == 1 && width != 0 && height != 0) {\n",
       "                fig.request_resize(width, height);\n",
       "            }\n",
       "        }\n",
       "    });\n",
       "    this.resizeObserverInstance.observe(canvas_div);\n",
       "\n",
       "    function on_mouse_event_closure(name) {\n",
       "        return function (event) {\n",
       "            return fig.mouse_event(event, name);\n",
       "        };\n",
       "    }\n",
       "\n",
       "    rubberband_canvas.addEventListener(\n",
       "        'mousedown',\n",
       "        on_mouse_event_closure('button_press')\n",
       "    );\n",
       "    rubberband_canvas.addEventListener(\n",
       "        'mouseup',\n",
       "        on_mouse_event_closure('button_release')\n",
       "    );\n",
       "    rubberband_canvas.addEventListener(\n",
       "        'dblclick',\n",
       "        on_mouse_event_closure('dblclick')\n",
       "    );\n",
       "    // Throttle sequential mouse events to 1 every 20ms.\n",
       "    rubberband_canvas.addEventListener(\n",
       "        'mousemove',\n",
       "        on_mouse_event_closure('motion_notify')\n",
       "    );\n",
       "\n",
       "    rubberband_canvas.addEventListener(\n",
       "        'mouseenter',\n",
       "        on_mouse_event_closure('figure_enter')\n",
       "    );\n",
       "    rubberband_canvas.addEventListener(\n",
       "        'mouseleave',\n",
       "        on_mouse_event_closure('figure_leave')\n",
       "    );\n",
       "\n",
       "    canvas_div.addEventListener('wheel', function (event) {\n",
       "        if (event.deltaY < 0) {\n",
       "            event.step = 1;\n",
       "        } else {\n",
       "            event.step = -1;\n",
       "        }\n",
       "        on_mouse_event_closure('scroll')(event);\n",
       "    });\n",
       "\n",
       "    canvas_div.appendChild(canvas);\n",
       "    canvas_div.appendChild(rubberband_canvas);\n",
       "\n",
       "    this.rubberband_context = rubberband_canvas.getContext('2d');\n",
       "    this.rubberband_context.strokeStyle = '#000000';\n",
       "\n",
       "    this._resize_canvas = function (width, height, forward) {\n",
       "        if (forward) {\n",
       "            canvas_div.style.width = width + 'px';\n",
       "            canvas_div.style.height = height + 'px';\n",
       "        }\n",
       "    };\n",
       "\n",
       "    // Disable right mouse context menu.\n",
       "    this.rubberband_canvas.addEventListener('contextmenu', function (_e) {\n",
       "        event.preventDefault();\n",
       "        return false;\n",
       "    });\n",
       "\n",
       "    function set_focus() {\n",
       "        canvas.focus();\n",
       "        canvas_div.focus();\n",
       "    }\n",
       "\n",
       "    window.setTimeout(set_focus, 100);\n",
       "};\n",
       "\n",
       "mpl.figure.prototype._init_toolbar = function () {\n",
       "    var fig = this;\n",
       "\n",
       "    var toolbar = document.createElement('div');\n",
       "    toolbar.classList = 'mpl-toolbar';\n",
       "    this.root.appendChild(toolbar);\n",
       "\n",
       "    function on_click_closure(name) {\n",
       "        return function (_event) {\n",
       "            return fig.toolbar_button_onclick(name);\n",
       "        };\n",
       "    }\n",
       "\n",
       "    function on_mouseover_closure(tooltip) {\n",
       "        return function (event) {\n",
       "            if (!event.currentTarget.disabled) {\n",
       "                return fig.toolbar_button_onmouseover(tooltip);\n",
       "            }\n",
       "        };\n",
       "    }\n",
       "\n",
       "    fig.buttons = {};\n",
       "    var buttonGroup = document.createElement('div');\n",
       "    buttonGroup.classList = 'mpl-button-group';\n",
       "    for (var toolbar_ind in mpl.toolbar_items) {\n",
       "        var name = mpl.toolbar_items[toolbar_ind][0];\n",
       "        var tooltip = mpl.toolbar_items[toolbar_ind][1];\n",
       "        var image = mpl.toolbar_items[toolbar_ind][2];\n",
       "        var method_name = mpl.toolbar_items[toolbar_ind][3];\n",
       "\n",
       "        if (!name) {\n",
       "            /* Instead of a spacer, we start a new button group. */\n",
       "            if (buttonGroup.hasChildNodes()) {\n",
       "                toolbar.appendChild(buttonGroup);\n",
       "            }\n",
       "            buttonGroup = document.createElement('div');\n",
       "            buttonGroup.classList = 'mpl-button-group';\n",
       "            continue;\n",
       "        }\n",
       "\n",
       "        var button = (fig.buttons[name] = document.createElement('button'));\n",
       "        button.classList = 'mpl-widget';\n",
       "        button.setAttribute('role', 'button');\n",
       "        button.setAttribute('aria-disabled', 'false');\n",
       "        button.addEventListener('click', on_click_closure(method_name));\n",
       "        button.addEventListener('mouseover', on_mouseover_closure(tooltip));\n",
       "\n",
       "        var icon_img = document.createElement('img');\n",
       "        icon_img.src = '_images/' + image + '.png';\n",
       "        icon_img.srcset = '_images/' + image + '_large.png 2x';\n",
       "        icon_img.alt = tooltip;\n",
       "        button.appendChild(icon_img);\n",
       "\n",
       "        buttonGroup.appendChild(button);\n",
       "    }\n",
       "\n",
       "    if (buttonGroup.hasChildNodes()) {\n",
       "        toolbar.appendChild(buttonGroup);\n",
       "    }\n",
       "\n",
       "    var fmt_picker = document.createElement('select');\n",
       "    fmt_picker.classList = 'mpl-widget';\n",
       "    toolbar.appendChild(fmt_picker);\n",
       "    this.format_dropdown = fmt_picker;\n",
       "\n",
       "    for (var ind in mpl.extensions) {\n",
       "        var fmt = mpl.extensions[ind];\n",
       "        var option = document.createElement('option');\n",
       "        option.selected = fmt === mpl.default_extension;\n",
       "        option.innerHTML = fmt;\n",
       "        fmt_picker.appendChild(option);\n",
       "    }\n",
       "\n",
       "    var status_bar = document.createElement('span');\n",
       "    status_bar.classList = 'mpl-message';\n",
       "    toolbar.appendChild(status_bar);\n",
       "    this.message = status_bar;\n",
       "};\n",
       "\n",
       "mpl.figure.prototype.request_resize = function (x_pixels, y_pixels) {\n",
       "    // Request matplotlib to resize the figure. Matplotlib will then trigger a resize in the client,\n",
       "    // which will in turn request a refresh of the image.\n",
       "    this.send_message('resize', { width: x_pixels, height: y_pixels });\n",
       "};\n",
       "\n",
       "mpl.figure.prototype.send_message = function (type, properties) {\n",
       "    properties['type'] = type;\n",
       "    properties['figure_id'] = this.id;\n",
       "    this.ws.send(JSON.stringify(properties));\n",
       "};\n",
       "\n",
       "mpl.figure.prototype.send_draw_message = function () {\n",
       "    if (!this.waiting) {\n",
       "        this.waiting = true;\n",
       "        this.ws.send(JSON.stringify({ type: 'draw', figure_id: this.id }));\n",
       "    }\n",
       "};\n",
       "\n",
       "mpl.figure.prototype.handle_save = function (fig, _msg) {\n",
       "    var format_dropdown = fig.format_dropdown;\n",
       "    var format = format_dropdown.options[format_dropdown.selectedIndex].value;\n",
       "    fig.ondownload(fig, format);\n",
       "};\n",
       "\n",
       "mpl.figure.prototype.handle_resize = function (fig, msg) {\n",
       "    var size = msg['size'];\n",
       "    if (size[0] !== fig.canvas.width || size[1] !== fig.canvas.height) {\n",
       "        fig._resize_canvas(size[0], size[1], msg['forward']);\n",
       "        fig.send_message('refresh', {});\n",
       "    }\n",
       "};\n",
       "\n",
       "mpl.figure.prototype.handle_rubberband = function (fig, msg) {\n",
       "    var x0 = msg['x0'] / fig.ratio;\n",
       "    var y0 = (fig.canvas.height - msg['y0']) / fig.ratio;\n",
       "    var x1 = msg['x1'] / fig.ratio;\n",
       "    var y1 = (fig.canvas.height - msg['y1']) / fig.ratio;\n",
       "    x0 = Math.floor(x0) + 0.5;\n",
       "    y0 = Math.floor(y0) + 0.5;\n",
       "    x1 = Math.floor(x1) + 0.5;\n",
       "    y1 = Math.floor(y1) + 0.5;\n",
       "    var min_x = Math.min(x0, x1);\n",
       "    var min_y = Math.min(y0, y1);\n",
       "    var width = Math.abs(x1 - x0);\n",
       "    var height = Math.abs(y1 - y0);\n",
       "\n",
       "    fig.rubberband_context.clearRect(\n",
       "        0,\n",
       "        0,\n",
       "        fig.canvas.width / fig.ratio,\n",
       "        fig.canvas.height / fig.ratio\n",
       "    );\n",
       "\n",
       "    fig.rubberband_context.strokeRect(min_x, min_y, width, height);\n",
       "};\n",
       "\n",
       "mpl.figure.prototype.handle_figure_label = function (fig, msg) {\n",
       "    // Updates the figure title.\n",
       "    fig.header.textContent = msg['label'];\n",
       "};\n",
       "\n",
       "mpl.figure.prototype.handle_cursor = function (fig, msg) {\n",
       "    fig.rubberband_canvas.style.cursor = msg['cursor'];\n",
       "};\n",
       "\n",
       "mpl.figure.prototype.handle_message = function (fig, msg) {\n",
       "    fig.message.textContent = msg['message'];\n",
       "};\n",
       "\n",
       "mpl.figure.prototype.handle_draw = function (fig, _msg) {\n",
       "    // Request the server to send over a new figure.\n",
       "    fig.send_draw_message();\n",
       "};\n",
       "\n",
       "mpl.figure.prototype.handle_image_mode = function (fig, msg) {\n",
       "    fig.image_mode = msg['mode'];\n",
       "};\n",
       "\n",
       "mpl.figure.prototype.handle_history_buttons = function (fig, msg) {\n",
       "    for (var key in msg) {\n",
       "        if (!(key in fig.buttons)) {\n",
       "            continue;\n",
       "        }\n",
       "        fig.buttons[key].disabled = !msg[key];\n",
       "        fig.buttons[key].setAttribute('aria-disabled', !msg[key]);\n",
       "    }\n",
       "};\n",
       "\n",
       "mpl.figure.prototype.handle_navigate_mode = function (fig, msg) {\n",
       "    if (msg['mode'] === 'PAN') {\n",
       "        fig.buttons['Pan'].classList.add('active');\n",
       "        fig.buttons['Zoom'].classList.remove('active');\n",
       "    } else if (msg['mode'] === 'ZOOM') {\n",
       "        fig.buttons['Pan'].classList.remove('active');\n",
       "        fig.buttons['Zoom'].classList.add('active');\n",
       "    } else {\n",
       "        fig.buttons['Pan'].classList.remove('active');\n",
       "        fig.buttons['Zoom'].classList.remove('active');\n",
       "    }\n",
       "};\n",
       "\n",
       "mpl.figure.prototype.updated_canvas_event = function () {\n",
       "    // Called whenever the canvas gets updated.\n",
       "    this.send_message('ack', {});\n",
       "};\n",
       "\n",
       "// A function to construct a web socket function for onmessage handling.\n",
       "// Called in the figure constructor.\n",
       "mpl.figure.prototype._make_on_message_function = function (fig) {\n",
       "    return function socket_on_message(evt) {\n",
       "        if (evt.data instanceof Blob) {\n",
       "            var img = evt.data;\n",
       "            if (img.type !== 'image/png') {\n",
       "                /* FIXME: We get \"Resource interpreted as Image but\n",
       "                 * transferred with MIME type text/plain:\" errors on\n",
       "                 * Chrome.  But how to set the MIME type?  It doesn't seem\n",
       "                 * to be part of the websocket stream */\n",
       "                img.type = 'image/png';\n",
       "            }\n",
       "\n",
       "            /* Free the memory for the previous frames */\n",
       "            if (fig.imageObj.src) {\n",
       "                (window.URL || window.webkitURL).revokeObjectURL(\n",
       "                    fig.imageObj.src\n",
       "                );\n",
       "            }\n",
       "\n",
       "            fig.imageObj.src = (window.URL || window.webkitURL).createObjectURL(\n",
       "                img\n",
       "            );\n",
       "            fig.updated_canvas_event();\n",
       "            fig.waiting = false;\n",
       "            return;\n",
       "        } else if (\n",
       "            typeof evt.data === 'string' &&\n",
       "            evt.data.slice(0, 21) === 'data:image/png;base64'\n",
       "        ) {\n",
       "            fig.imageObj.src = evt.data;\n",
       "            fig.updated_canvas_event();\n",
       "            fig.waiting = false;\n",
       "            return;\n",
       "        }\n",
       "\n",
       "        var msg = JSON.parse(evt.data);\n",
       "        var msg_type = msg['type'];\n",
       "\n",
       "        // Call the  \"handle_{type}\" callback, which takes\n",
       "        // the figure and JSON message as its only arguments.\n",
       "        try {\n",
       "            var callback = fig['handle_' + msg_type];\n",
       "        } catch (e) {\n",
       "            console.log(\n",
       "                \"No handler for the '\" + msg_type + \"' message type: \",\n",
       "                msg\n",
       "            );\n",
       "            return;\n",
       "        }\n",
       "\n",
       "        if (callback) {\n",
       "            try {\n",
       "                // console.log(\"Handling '\" + msg_type + \"' message: \", msg);\n",
       "                callback(fig, msg);\n",
       "            } catch (e) {\n",
       "                console.log(\n",
       "                    \"Exception inside the 'handler_\" + msg_type + \"' callback:\",\n",
       "                    e,\n",
       "                    e.stack,\n",
       "                    msg\n",
       "                );\n",
       "            }\n",
       "        }\n",
       "    };\n",
       "};\n",
       "\n",
       "// from https://stackoverflow.com/questions/1114465/getting-mouse-location-in-canvas\n",
       "mpl.findpos = function (e) {\n",
       "    //this section is from http://www.quirksmode.org/js/events_properties.html\n",
       "    var targ;\n",
       "    if (!e) {\n",
       "        e = window.event;\n",
       "    }\n",
       "    if (e.target) {\n",
       "        targ = e.target;\n",
       "    } else if (e.srcElement) {\n",
       "        targ = e.srcElement;\n",
       "    }\n",
       "    if (targ.nodeType === 3) {\n",
       "        // defeat Safari bug\n",
       "        targ = targ.parentNode;\n",
       "    }\n",
       "\n",
       "    // pageX,Y are the mouse positions relative to the document\n",
       "    var boundingRect = targ.getBoundingClientRect();\n",
       "    var x = e.pageX - (boundingRect.left + document.body.scrollLeft);\n",
       "    var y = e.pageY - (boundingRect.top + document.body.scrollTop);\n",
       "\n",
       "    return { x: x, y: y };\n",
       "};\n",
       "\n",
       "/*\n",
       " * return a copy of an object with only non-object keys\n",
       " * we need this to avoid circular references\n",
       " * https://stackoverflow.com/a/24161582/3208463\n",
       " */\n",
       "function simpleKeys(original) {\n",
       "    return Object.keys(original).reduce(function (obj, key) {\n",
       "        if (typeof original[key] !== 'object') {\n",
       "            obj[key] = original[key];\n",
       "        }\n",
       "        return obj;\n",
       "    }, {});\n",
       "}\n",
       "\n",
       "mpl.figure.prototype.mouse_event = function (event, name) {\n",
       "    var canvas_pos = mpl.findpos(event);\n",
       "\n",
       "    if (name === 'button_press') {\n",
       "        this.canvas.focus();\n",
       "        this.canvas_div.focus();\n",
       "    }\n",
       "\n",
       "    var x = canvas_pos.x * this.ratio;\n",
       "    var y = canvas_pos.y * this.ratio;\n",
       "\n",
       "    this.send_message(name, {\n",
       "        x: x,\n",
       "        y: y,\n",
       "        button: event.button,\n",
       "        step: event.step,\n",
       "        guiEvent: simpleKeys(event),\n",
       "    });\n",
       "\n",
       "    /* This prevents the web browser from automatically changing to\n",
       "     * the text insertion cursor when the button is pressed.  We want\n",
       "     * to control all of the cursor setting manually through the\n",
       "     * 'cursor' event from matplotlib */\n",
       "    event.preventDefault();\n",
       "    return false;\n",
       "};\n",
       "\n",
       "mpl.figure.prototype._key_event_extra = function (_event, _name) {\n",
       "    // Handle any extra behaviour associated with a key event\n",
       "};\n",
       "\n",
       "mpl.figure.prototype.key_event = function (event, name) {\n",
       "    // Prevent repeat events\n",
       "    if (name === 'key_press') {\n",
       "        if (event.key === this._key) {\n",
       "            return;\n",
       "        } else {\n",
       "            this._key = event.key;\n",
       "        }\n",
       "    }\n",
       "    if (name === 'key_release') {\n",
       "        this._key = null;\n",
       "    }\n",
       "\n",
       "    var value = '';\n",
       "    if (event.ctrlKey && event.key !== 'Control') {\n",
       "        value += 'ctrl+';\n",
       "    }\n",
       "    else if (event.altKey && event.key !== 'Alt') {\n",
       "        value += 'alt+';\n",
       "    }\n",
       "    else if (event.shiftKey && event.key !== 'Shift') {\n",
       "        value += 'shift+';\n",
       "    }\n",
       "\n",
       "    value += 'k' + event.key;\n",
       "\n",
       "    this._key_event_extra(event, name);\n",
       "\n",
       "    this.send_message(name, { key: value, guiEvent: simpleKeys(event) });\n",
       "    return false;\n",
       "};\n",
       "\n",
       "mpl.figure.prototype.toolbar_button_onclick = function (name) {\n",
       "    if (name === 'download') {\n",
       "        this.handle_save(this, null);\n",
       "    } else {\n",
       "        this.send_message('toolbar_button', { name: name });\n",
       "    }\n",
       "};\n",
       "\n",
       "mpl.figure.prototype.toolbar_button_onmouseover = function (tooltip) {\n",
       "    this.message.textContent = tooltip;\n",
       "};\n",
       "\n",
       "///////////////// REMAINING CONTENT GENERATED BY embed_js.py /////////////////\n",
       "// prettier-ignore\n",
       "var _JSXTOOLS_RESIZE_OBSERVER=function(A){var t,i=new WeakMap,n=new WeakMap,a=new WeakMap,r=new WeakMap,o=new Set;function s(e){if(!(this instanceof s))throw new TypeError(\"Constructor requires 'new' operator\");i.set(this,e)}function h(){throw new TypeError(\"Function is not a constructor\")}function c(e,t,i,n){e=0 in arguments?Number(arguments[0]):0,t=1 in arguments?Number(arguments[1]):0,i=2 in arguments?Number(arguments[2]):0,n=3 in arguments?Number(arguments[3]):0,this.right=(this.x=this.left=e)+(this.width=i),this.bottom=(this.y=this.top=t)+(this.height=n),Object.freeze(this)}function d(){t=requestAnimationFrame(d);var s=new WeakMap,p=new Set;o.forEach((function(t){r.get(t).forEach((function(i){var r=t instanceof window.SVGElement,o=a.get(t),d=r?0:parseFloat(o.paddingTop),f=r?0:parseFloat(o.paddingRight),l=r?0:parseFloat(o.paddingBottom),u=r?0:parseFloat(o.paddingLeft),g=r?0:parseFloat(o.borderTopWidth),m=r?0:parseFloat(o.borderRightWidth),w=r?0:parseFloat(o.borderBottomWidth),b=u+f,F=d+l,v=(r?0:parseFloat(o.borderLeftWidth))+m,W=g+w,y=r?0:t.offsetHeight-W-t.clientHeight,E=r?0:t.offsetWidth-v-t.clientWidth,R=b+v,z=F+W,M=r?t.width:parseFloat(o.width)-R-E,O=r?t.height:parseFloat(o.height)-z-y;if(n.has(t)){var k=n.get(t);if(k[0]===M&&k[1]===O)return}n.set(t,[M,O]);var S=Object.create(h.prototype);S.target=t,S.contentRect=new c(u,d,M,O),s.has(i)||(s.set(i,[]),p.add(i)),s.get(i).push(S)}))})),p.forEach((function(e){i.get(e).call(e,s.get(e),e)}))}return s.prototype.observe=function(i){if(i instanceof window.Element){r.has(i)||(r.set(i,new Set),o.add(i),a.set(i,window.getComputedStyle(i)));var n=r.get(i);n.has(this)||n.add(this),cancelAnimationFrame(t),t=requestAnimationFrame(d)}},s.prototype.unobserve=function(i){if(i instanceof window.Element&&r.has(i)){var n=r.get(i);n.has(this)&&(n.delete(this),n.size||(r.delete(i),o.delete(i))),n.size||r.delete(i),o.size||cancelAnimationFrame(t)}},A.DOMRectReadOnly=c,A.ResizeObserver=s,A.ResizeObserverEntry=h,A}; // eslint-disable-line\n",
       "mpl.toolbar_items = [[\"Home\", \"Reset original view\", \"fa fa-home\", \"home\"], [\"Back\", \"Back to previous view\", \"fa fa-arrow-left\", \"back\"], [\"Forward\", \"Forward to next view\", \"fa fa-arrow-right\", \"forward\"], [\"\", \"\", \"\", \"\"], [\"Pan\", \"Left button pans, Right button zooms\\nx/y fixes axis, CTRL fixes aspect\", \"fa fa-arrows\", \"pan\"], [\"Zoom\", \"Zoom to rectangle\\nx/y fixes axis\", \"fa fa-square-o\", \"zoom\"], [\"\", \"\", \"\", \"\"], [\"Download\", \"Download plot\", \"fa fa-floppy-o\", \"download\"]];\n",
       "\n",
       "mpl.extensions = [\"eps\", \"jpeg\", \"pgf\", \"pdf\", \"png\", \"ps\", \"raw\", \"svg\", \"tif\", \"webp\"];\n",
       "\n",
       "mpl.default_extension = \"png\";/* global mpl */\n",
       "\n",
       "var comm_websocket_adapter = function (comm) {\n",
       "    // Create a \"websocket\"-like object which calls the given IPython comm\n",
       "    // object with the appropriate methods. Currently this is a non binary\n",
       "    // socket, so there is still some room for performance tuning.\n",
       "    var ws = {};\n",
       "\n",
       "    ws.binaryType = comm.kernel.ws.binaryType;\n",
       "    ws.readyState = comm.kernel.ws.readyState;\n",
       "    function updateReadyState(_event) {\n",
       "        if (comm.kernel.ws) {\n",
       "            ws.readyState = comm.kernel.ws.readyState;\n",
       "        } else {\n",
       "            ws.readyState = 3; // Closed state.\n",
       "        }\n",
       "    }\n",
       "    comm.kernel.ws.addEventListener('open', updateReadyState);\n",
       "    comm.kernel.ws.addEventListener('close', updateReadyState);\n",
       "    comm.kernel.ws.addEventListener('error', updateReadyState);\n",
       "\n",
       "    ws.close = function () {\n",
       "        comm.close();\n",
       "    };\n",
       "    ws.send = function (m) {\n",
       "        //console.log('sending', m);\n",
       "        comm.send(m);\n",
       "    };\n",
       "    // Register the callback with on_msg.\n",
       "    comm.on_msg(function (msg) {\n",
       "        //console.log('receiving', msg['content']['data'], msg);\n",
       "        var data = msg['content']['data'];\n",
       "        if (data['blob'] !== undefined) {\n",
       "            data = {\n",
       "                data: new Blob(msg['buffers'], { type: data['blob'] }),\n",
       "            };\n",
       "        }\n",
       "        // Pass the mpl event to the overridden (by mpl) onmessage function.\n",
       "        ws.onmessage(data);\n",
       "    });\n",
       "    return ws;\n",
       "};\n",
       "\n",
       "mpl.mpl_figure_comm = function (comm, msg) {\n",
       "    // This is the function which gets called when the mpl process\n",
       "    // starts-up an IPython Comm through the \"matplotlib\" channel.\n",
       "\n",
       "    var id = msg.content.data.id;\n",
       "    // Get hold of the div created by the display call when the Comm\n",
       "    // socket was opened in Python.\n",
       "    var element = document.getElementById(id);\n",
       "    var ws_proxy = comm_websocket_adapter(comm);\n",
       "\n",
       "    function ondownload(figure, _format) {\n",
       "        window.open(figure.canvas.toDataURL());\n",
       "    }\n",
       "\n",
       "    var fig = new mpl.figure(id, ws_proxy, ondownload, element);\n",
       "\n",
       "    // Call onopen now - mpl needs it, as it is assuming we've passed it a real\n",
       "    // web socket which is closed, not our websocket->open comm proxy.\n",
       "    ws_proxy.onopen();\n",
       "\n",
       "    fig.parent_element = element;\n",
       "    fig.cell_info = mpl.find_output_cell(\"<div id='\" + id + \"'></div>\");\n",
       "    if (!fig.cell_info) {\n",
       "        console.error('Failed to find cell for figure', id, fig);\n",
       "        return;\n",
       "    }\n",
       "    fig.cell_info[0].output_area.element.on(\n",
       "        'cleared',\n",
       "        { fig: fig },\n",
       "        fig._remove_fig_handler\n",
       "    );\n",
       "};\n",
       "\n",
       "mpl.figure.prototype.handle_close = function (fig, msg) {\n",
       "    var width = fig.canvas.width / fig.ratio;\n",
       "    fig.cell_info[0].output_area.element.off(\n",
       "        'cleared',\n",
       "        fig._remove_fig_handler\n",
       "    );\n",
       "    fig.resizeObserverInstance.unobserve(fig.canvas_div);\n",
       "\n",
       "    // Update the output cell to use the data from the current canvas.\n",
       "    fig.push_to_output();\n",
       "    var dataURL = fig.canvas.toDataURL();\n",
       "    // Re-enable the keyboard manager in IPython - without this line, in FF,\n",
       "    // the notebook keyboard shortcuts fail.\n",
       "    IPython.keyboard_manager.enable();\n",
       "    fig.parent_element.innerHTML =\n",
       "        '<img src=\"' + dataURL + '\" width=\"' + width + '\">';\n",
       "    fig.close_ws(fig, msg);\n",
       "};\n",
       "\n",
       "mpl.figure.prototype.close_ws = function (fig, msg) {\n",
       "    fig.send_message('closing', msg);\n",
       "    // fig.ws.close()\n",
       "};\n",
       "\n",
       "mpl.figure.prototype.push_to_output = function (_remove_interactive) {\n",
       "    // Turn the data on the canvas into data in the output cell.\n",
       "    var width = this.canvas.width / this.ratio;\n",
       "    var dataURL = this.canvas.toDataURL();\n",
       "    this.cell_info[1]['text/html'] =\n",
       "        '<img src=\"' + dataURL + '\" width=\"' + width + '\">';\n",
       "};\n",
       "\n",
       "mpl.figure.prototype.updated_canvas_event = function () {\n",
       "    // Tell IPython that the notebook contents must change.\n",
       "    IPython.notebook.set_dirty(true);\n",
       "    this.send_message('ack', {});\n",
       "    var fig = this;\n",
       "    // Wait a second, then push the new image to the DOM so\n",
       "    // that it is saved nicely (might be nice to debounce this).\n",
       "    setTimeout(function () {\n",
       "        fig.push_to_output();\n",
       "    }, 1000);\n",
       "};\n",
       "\n",
       "mpl.figure.prototype._init_toolbar = function () {\n",
       "    var fig = this;\n",
       "\n",
       "    var toolbar = document.createElement('div');\n",
       "    toolbar.classList = 'btn-toolbar';\n",
       "    this.root.appendChild(toolbar);\n",
       "\n",
       "    function on_click_closure(name) {\n",
       "        return function (_event) {\n",
       "            return fig.toolbar_button_onclick(name);\n",
       "        };\n",
       "    }\n",
       "\n",
       "    function on_mouseover_closure(tooltip) {\n",
       "        return function (event) {\n",
       "            if (!event.currentTarget.disabled) {\n",
       "                return fig.toolbar_button_onmouseover(tooltip);\n",
       "            }\n",
       "        };\n",
       "    }\n",
       "\n",
       "    fig.buttons = {};\n",
       "    var buttonGroup = document.createElement('div');\n",
       "    buttonGroup.classList = 'btn-group';\n",
       "    var button;\n",
       "    for (var toolbar_ind in mpl.toolbar_items) {\n",
       "        var name = mpl.toolbar_items[toolbar_ind][0];\n",
       "        var tooltip = mpl.toolbar_items[toolbar_ind][1];\n",
       "        var image = mpl.toolbar_items[toolbar_ind][2];\n",
       "        var method_name = mpl.toolbar_items[toolbar_ind][3];\n",
       "\n",
       "        if (!name) {\n",
       "            /* Instead of a spacer, we start a new button group. */\n",
       "            if (buttonGroup.hasChildNodes()) {\n",
       "                toolbar.appendChild(buttonGroup);\n",
       "            }\n",
       "            buttonGroup = document.createElement('div');\n",
       "            buttonGroup.classList = 'btn-group';\n",
       "            continue;\n",
       "        }\n",
       "\n",
       "        button = fig.buttons[name] = document.createElement('button');\n",
       "        button.classList = 'btn btn-default';\n",
       "        button.href = '#';\n",
       "        button.title = name;\n",
       "        button.innerHTML = '<i class=\"fa ' + image + ' fa-lg\"></i>';\n",
       "        button.addEventListener('click', on_click_closure(method_name));\n",
       "        button.addEventListener('mouseover', on_mouseover_closure(tooltip));\n",
       "        buttonGroup.appendChild(button);\n",
       "    }\n",
       "\n",
       "    if (buttonGroup.hasChildNodes()) {\n",
       "        toolbar.appendChild(buttonGroup);\n",
       "    }\n",
       "\n",
       "    // Add the status bar.\n",
       "    var status_bar = document.createElement('span');\n",
       "    status_bar.classList = 'mpl-message pull-right';\n",
       "    toolbar.appendChild(status_bar);\n",
       "    this.message = status_bar;\n",
       "\n",
       "    // Add the close button to the window.\n",
       "    var buttongrp = document.createElement('div');\n",
       "    buttongrp.classList = 'btn-group inline pull-right';\n",
       "    button = document.createElement('button');\n",
       "    button.classList = 'btn btn-mini btn-primary';\n",
       "    button.href = '#';\n",
       "    button.title = 'Stop Interaction';\n",
       "    button.innerHTML = '<i class=\"fa fa-power-off icon-remove icon-large\"></i>';\n",
       "    button.addEventListener('click', function (_evt) {\n",
       "        fig.handle_close(fig, {});\n",
       "    });\n",
       "    button.addEventListener(\n",
       "        'mouseover',\n",
       "        on_mouseover_closure('Stop Interaction')\n",
       "    );\n",
       "    buttongrp.appendChild(button);\n",
       "    var titlebar = this.root.querySelector('.ui-dialog-titlebar');\n",
       "    titlebar.insertBefore(buttongrp, titlebar.firstChild);\n",
       "};\n",
       "\n",
       "mpl.figure.prototype._remove_fig_handler = function (event) {\n",
       "    var fig = event.data.fig;\n",
       "    if (event.target !== this) {\n",
       "        // Ignore bubbled events from children.\n",
       "        return;\n",
       "    }\n",
       "    fig.close_ws(fig, {});\n",
       "};\n",
       "\n",
       "mpl.figure.prototype._root_extra_style = function (el) {\n",
       "    el.style.boxSizing = 'content-box'; // override notebook setting of border-box.\n",
       "};\n",
       "\n",
       "mpl.figure.prototype._canvas_extra_style = function (el) {\n",
       "    // this is important to make the div 'focusable\n",
       "    el.setAttribute('tabindex', 0);\n",
       "    // reach out to IPython and tell the keyboard manager to turn it's self\n",
       "    // off when our div gets focus\n",
       "\n",
       "    // location in version 3\n",
       "    if (IPython.notebook.keyboard_manager) {\n",
       "        IPython.notebook.keyboard_manager.register_events(el);\n",
       "    } else {\n",
       "        // location in version 2\n",
       "        IPython.keyboard_manager.register_events(el);\n",
       "    }\n",
       "};\n",
       "\n",
       "mpl.figure.prototype._key_event_extra = function (event, _name) {\n",
       "    // Check for shift+enter\n",
       "    if (event.shiftKey && event.which === 13) {\n",
       "        this.canvas_div.blur();\n",
       "        // select the cell after this one\n",
       "        var index = IPython.notebook.find_cell_index(this.cell_info[0]);\n",
       "        IPython.notebook.select(index + 1);\n",
       "    }\n",
       "};\n",
       "\n",
       "mpl.figure.prototype.handle_save = function (fig, _msg) {\n",
       "    fig.ondownload(fig, null);\n",
       "};\n",
       "\n",
       "mpl.find_output_cell = function (html_output) {\n",
       "    // Return the cell and output element which can be found *uniquely* in the notebook.\n",
       "    // Note - this is a bit hacky, but it is done because the \"notebook_saving.Notebook\"\n",
       "    // IPython event is triggered only after the cells have been serialised, which for\n",
       "    // our purposes (turning an active figure into a static one), is too late.\n",
       "    var cells = IPython.notebook.get_cells();\n",
       "    var ncells = cells.length;\n",
       "    for (var i = 0; i < ncells; i++) {\n",
       "        var cell = cells[i];\n",
       "        if (cell.cell_type === 'code') {\n",
       "            for (var j = 0; j < cell.output_area.outputs.length; j++) {\n",
       "                var data = cell.output_area.outputs[j];\n",
       "                if (data.data) {\n",
       "                    // IPython >= 3 moved mimebundle to data attribute of output\n",
       "                    data = data.data;\n",
       "                }\n",
       "                if (data['text/html'] === html_output) {\n",
       "                    return [cell, data, j];\n",
       "                }\n",
       "            }\n",
       "        }\n",
       "    }\n",
       "};\n",
       "\n",
       "// Register the function which deals with the matplotlib target/channel.\n",
       "// The kernel may be null if the page has been refreshed.\n",
       "if (IPython.notebook.kernel !== null) {\n",
       "    IPython.notebook.kernel.comm_manager.register_target(\n",
       "        'matplotlib',\n",
       "        mpl.mpl_figure_comm\n",
       "    );\n",
       "}\n"
      ],
      "text/plain": [
       "<IPython.core.display.Javascript object>"
      ]
     },
     "metadata": {},
     "output_type": "display_data"
    },
    {
     "data": {
      "text/html": [
       "<img src=\"data:image/png;base64,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\" width=\"640\">"
      ],
      "text/plain": [
       "<IPython.core.display.HTML object>"
      ]
     },
     "metadata": {},
     "output_type": "display_data"
    },
    {
     "data": {
      "application/vnd.jupyter.widget-view+json": {
       "model_id": "0b4ef2b787c7411396906d894f067459",
       "version_major": 2,
       "version_minor": 0
      },
      "text/plain": [
       "NaiveDatetimePicker(value=datetime.datetime(2022, 1, 1, 0, 0), description='date de début')"
      ]
     },
     "metadata": {},
     "output_type": "display_data"
    },
    {
     "data": {
      "application/vnd.jupyter.widget-view+json": {
       "model_id": "11decfa7fe1843a18f6d9bbafc4f6883",
       "version_major": 2,
       "version_minor": 0
      },
      "text/plain": [
       "NaiveDatetimePicker(value=Timestamp('2022-09-15 16:40:00'), description='date de fin')"
      ]
     },
     "metadata": {},
     "output_type": "display_data"
    },
    {
     "data": {
      "application/vnd.jupyter.widget-view+json": {
       "model_id": "72fe3aef0dc54a1d9b17ef599f832272",
       "version_major": 2,
       "version_minor": 0
      },
      "text/plain": [
       "Accordion(children=(VBox(children=(Checkbox(value=False, description='Etuve1'), Checkbox(value=False, descript…"
      ]
     },
     "metadata": {},
     "output_type": "display_data"
    },
    {
     "data": {
      "application/vnd.jupyter.widget-view+json": {
       "model_id": "494df17c78ca4d61a521ed58ff2ee8c9",
       "version_major": 2,
       "version_minor": 0
      },
      "text/plain": [
       "FloatRangeSlider(value=(0.0, 120.0), description='filtre', max=120.0, readout_format='.1f')"
      ]
     },
     "metadata": {},
     "output_type": "display_data"
    },
    {
     "data": {
      "application/vnd.jupyter.widget-view+json": {
       "model_id": "a11fa3482edf4cd0b761afeecd6661de",
       "version_major": 2,
       "version_minor": 0
      },
      "text/plain": [
       "Output()"
      ]
     },
     "metadata": {},
     "output_type": "display_data"
    },
    {
     "data": {
      "application/vnd.jupyter.widget-view+json": {
       "model_id": "a11fa3482edf4cd0b761afeecd6661de",
       "version_major": 2,
       "version_minor": 0
      },
      "text/plain": [
       "Output(outputs=({'output_type': 'stream', 'text': 'No artists with labels found to put in legend.  Note that a…"
      ]
     },
     "metadata": {},
     "output_type": "display_data"
    },
    {
     "data": {
      "application/vnd.jupyter.widget-view+json": {
       "model_id": "a11fa3482edf4cd0b761afeecd6661de",
       "version_major": 2,
       "version_minor": 0
      },
      "text/plain": [
       "Output()"
      ]
     },
     "metadata": {},
     "output_type": "display_data"
    },
    {
     "data": {
      "application/vnd.jupyter.widget-view+json": {
       "model_id": "a11fa3482edf4cd0b761afeecd6661de",
       "version_major": 2,
       "version_minor": 0
      },
      "text/plain": [
       "Output(outputs=({'output_type': 'stream', 'text': 'No artists with labels found to put in legend.  Note that a…"
      ]
     },
     "metadata": {},
     "output_type": "display_data"
    },
    {
     "data": {
      "application/vnd.jupyter.widget-view+json": {
       "model_id": "a11fa3482edf4cd0b761afeecd6661de",
       "version_major": 2,
       "version_minor": 0
      },
      "text/plain": [
       "Output()"
      ]
     },
     "metadata": {},
     "output_type": "display_data"
    },
    {
     "data": {
      "application/vnd.jupyter.widget-view+json": {
       "model_id": "a11fa3482edf4cd0b761afeecd6661de",
       "version_major": 2,
       "version_minor": 0
      },
      "text/plain": [
       "Output()"
      ]
     },
     "metadata": {},
     "output_type": "display_data"
    },
    {
     "data": {
      "application/vnd.jupyter.widget-view+json": {
       "model_id": "a11fa3482edf4cd0b761afeecd6661de",
       "version_major": 2,
       "version_minor": 0
      },
      "text/plain": [
       "Output()"
      ]
     },
     "metadata": {},
     "output_type": "display_data"
    },
    {
     "data": {
      "application/vnd.jupyter.widget-view+json": {
       "model_id": "a11fa3482edf4cd0b761afeecd6661de",
       "version_major": 2,
       "version_minor": 0
      },
      "text/plain": [
       "Output()"
      ]
     },
     "metadata": {},
     "output_type": "display_data"
    },
    {
     "data": {
      "application/vnd.jupyter.widget-view+json": {
       "model_id": "a11fa3482edf4cd0b761afeecd6661de",
       "version_major": 2,
       "version_minor": 0
      },
      "text/plain": [
       "Output()"
      ]
     },
     "metadata": {},
     "output_type": "display_data"
    },
    {
     "data": {
      "application/vnd.jupyter.widget-view+json": {
       "model_id": "a11fa3482edf4cd0b761afeecd6661de",
       "version_major": 2,
       "version_minor": 0
      },
      "text/plain": [
       "Output()"
      ]
     },
     "metadata": {},
     "output_type": "display_data"
    },
    {
     "data": {
      "application/vnd.jupyter.widget-view+json": {
       "model_id": "a11fa3482edf4cd0b761afeecd6661de",
       "version_major": 2,
       "version_minor": 0
      },
      "text/plain": [
       "Output()"
      ]
     },
     "metadata": {},
     "output_type": "display_data"
    },
    {
     "data": {
      "application/vnd.jupyter.widget-view+json": {
       "model_id": "a11fa3482edf4cd0b761afeecd6661de",
       "version_major": 2,
       "version_minor": 0
      },
      "text/plain": [
       "Output()"
      ]
     },
     "metadata": {},
     "output_type": "display_data"
    },
    {
     "data": {
      "application/vnd.jupyter.widget-view+json": {
       "model_id": "a11fa3482edf4cd0b761afeecd6661de",
       "version_major": 2,
       "version_minor": 0
      },
      "text/plain": [
       "Output()"
      ]
     },
     "metadata": {},
     "output_type": "display_data"
    }
   ],
   "source": [
    "fig, ax = plt.subplots()\n",
    "\n",
    "D = Displayer(Temp_mach, fig, ax)\n",
    "\n",
    "def start_date_eventhandler(change):\n",
    "    D.change_dates(change.new)\n",
    "    D.display(Boxes_states)\n",
    "def end_date_eventhandler(change):\n",
    "    D.change_dates(new_date_end=change.new)\n",
    "    D.display(Boxes_states)\n",
    "def checkboxes_column_eventhandler(desc, change):\n",
    "    if isinstance(change['new'], dict) and change['new'] :\n",
    "        Boxes_states[desc]=change['new']['value']\n",
    "        D.display(Boxes_states)\n",
    "def checkbox_eventhandler(change):\n",
    "    checkboxes_column_eventhandler(change['owner'].description, change)\n",
    "def FloatRangeSlider_eventhandler(change):\n",
    "    D.change_ylim(change.new[0], change.new[1])\n",
    "    D.display(Boxes_states)\n",
    "\n",
    "start_date.observe(start_date_eventhandler, names='value')\n",
    "end_date.observe(end_date_eventhandler, names='value')\n",
    "Ycut.observe(FloatRangeSlider_eventhandler, names='value')\n",
    "for el in columns :\n",
    "    el.observe(checkbox_eventhandler)\n",
    "\n",
    "Idisplay(start_date, end_date, accordion, Ycut)"
   ]
  },
  {
   "cell_type": "code",
   "execution_count": null,
   "id": "c767af78",
   "metadata": {},
   "outputs": [],
   "source": []
  }
 ],
 "metadata": {
  "kernelspec": {
   "display_name": "Python 3 (ipykernel)",
   "language": "python",
   "name": "python3"
  },
  "language_info": {
   "codemirror_mode": {
    "name": "ipython",
    "version": 3
   },
   "file_extension": ".py",
   "mimetype": "text/x-python",
   "name": "python",
   "nbconvert_exporter": "python",
   "pygments_lexer": "ipython3",
   "version": "3.10.7"
  },
  "widgets": {
   "application/vnd.jupyter.widget-state+json": {
    "state": {
     "0036f63593414227ac76b801f8a99d61": {
      "model_module": "@jupyter-widgets/controls",
      "model_module_version": "2.0.0",
      "model_name": "DescriptionStyleModel",
      "state": {
       "description_width": ""
      }
     },
     "01e7691c0484401eb83cd25d623124ce": {
      "model_module": "@jupyter-widgets/controls",
      "model_module_version": "2.0.0",
      "model_name": "CheckboxModel",
      "state": {
       "description": "Etuve1",
       "disabled": false,
       "layout": "IPY_MODEL_c6b4d5353eb24b8bbbcbdc9a55744d8d",
       "style": "IPY_MODEL_32846e27031b4a75b87ece2ada3763b9",
       "value": true
      }
     },
     "0431bb65990d4409aa40f8d35b1e2383": {
      "model_module": "@jupyter-widgets/base",
      "model_module_version": "2.0.0",
      "model_name": "LayoutModel",
      "state": {}
     },
     "048a599963e64f9a9562e78cedfbdea0": {
      "model_module": "@jupyter-widgets/controls",
      "model_module_version": "2.0.0",
      "model_name": "CheckboxStyleModel",
      "state": {
       "description_width": ""
      }
     },
     "07b23463129d45bcac08f3438e798f19": {
      "model_module": "@jupyter-widgets/controls",
      "model_module_version": "2.0.0",
      "model_name": "CheckboxStyleModel",
      "state": {
       "description_width": ""
      }
     },
     "087be81f59c44734a261aaab4731e79f": {
      "model_module": "@jupyter-widgets/controls",
      "model_module_version": "2.0.0",
      "model_name": "CheckboxStyleModel",
      "state": {
       "description_width": ""
      }
     },
     "0b4ef2b787c7411396906d894f067459": {
      "model_module": "@jupyter-widgets/controls",
      "model_module_version": "2.0.0",
      "model_name": "NaiveDatetimeModel",
      "state": {
       "description": "date de début",
       "layout": "IPY_MODEL_4ccfab21923f4a9aab225d75d8efa7ef",
       "style": "IPY_MODEL_1e9448de9eb746d2af9ea9f0d32f2b41",
       "value": {
        "date": 1,
        "hours": 0,
        "milliseconds": 0,
        "minutes": 0,
        "month": 0,
        "seconds": 0,
        "year": 2022
       }
      }
     },
     "0bf5684d1832494fbb677afcc5e70263": {
      "model_module": "@jupyter-widgets/controls",
      "model_module_version": "2.0.0",
      "model_name": "CheckboxModel",
      "state": {
       "description": "Preleveur1",
       "disabled": false,
       "layout": "IPY_MODEL_b7f7a9c719124add9c7ec0613cb2f193",
       "style": "IPY_MODEL_27484b00e09e4e1ea442f2050009869d",
       "value": false
      }
     },
     "0c44f69a6f2f4d94be6e5cb87eb0e659": {
      "model_module": "@jupyter-widgets/controls",
      "model_module_version": "2.0.0",
      "model_name": "CheckboxStyleModel",
      "state": {
       "description_width": ""
      }
     },
     "0debb751e6cf43d4a4a4b4d881eebd65": {
      "model_module": "@jupyter-widgets/base",
      "model_module_version": "2.0.0",
      "model_name": "LayoutModel",
      "state": {}
     },
     "0e34924c196646f7ae70eae498c1df9d": {
      "model_module": "@jupyter-widgets/controls",
      "model_module_version": "2.0.0",
      "model_name": "CheckboxStyleModel",
      "state": {
       "description_width": ""
      }
     },
     "108568c7cffd46fcbb9264eb99254984": {
      "model_module": "@jupyter-widgets/controls",
      "model_module_version": "2.0.0",
      "model_name": "CheckboxModel",
      "state": {
       "description": "Refregirateur4",
       "disabled": false,
       "layout": "IPY_MODEL_e7f11b6bb8c74518b09b7b4ca418b4ec",
       "style": "IPY_MODEL_d22dcda5439b4630931292b74b2523a7",
       "value": false
      }
     },
     "10c806fbec7f4b599762994f1fcbc181": {
      "model_module": "@jupyter-widgets/base",
      "model_module_version": "2.0.0",
      "model_name": "LayoutModel",
      "state": {}
     },
     "1143271d6cbe471bb42cc3389b97041b": {
      "model_module": "@jupyter-widgets/controls",
      "model_module_version": "2.0.0",
      "model_name": "NaiveDatetimeModel",
      "state": {
       "description": "date de fin",
       "layout": "IPY_MODEL_f80f52a21cd44c2690008ba2fec25bb4",
       "style": "IPY_MODEL_c565ef47e1854dda9805505eaa8d8b49",
       "value": {
        "date": 1,
        "hours": 0,
        "milliseconds": 0,
        "minutes": 0,
        "month": 1,
        "seconds": 0,
        "year": 2022
       }
      }
     },
     "11decfa7fe1843a18f6d9bbafc4f6883": {
      "model_module": "@jupyter-widgets/controls",
      "model_module_version": "2.0.0",
      "model_name": "NaiveDatetimeModel",
      "state": {
       "description": "date de fin",
       "layout": "IPY_MODEL_c7141f3b7fe84070aae44d2cc20d4c4c",
       "style": "IPY_MODEL_1e88297a59d44c2ebb0e3d6a77943f1e",
       "value": {
        "date": 1,
        "hours": 0,
        "milliseconds": 0,
        "minutes": 0,
        "month": 1,
        "seconds": 0,
        "year": 2022
       }
      }
     },
     "121e75e74b694abd9bb8f482f947f81f": {
      "model_module": "@jupyter-widgets/controls",
      "model_module_version": "2.0.0",
      "model_name": "CheckboxStyleModel",
      "state": {
       "description_width": ""
      }
     },
     "12286ba5d94a48818f84d2b5535d3f82": {
      "model_module": "@jupyter-widgets/controls",
      "model_module_version": "2.0.0",
      "model_name": "CheckboxModel",
      "state": {
       "description": "Refregirateur1",
       "disabled": false,
       "layout": "IPY_MODEL_0431bb65990d4409aa40f8d35b1e2383",
       "style": "IPY_MODEL_745bd8ac2fcd4466beb0b11b17a1ac5d",
       "value": false
      }
     },
     "124a6b4e343341cb84ee26cd5ba6f8d0": {
      "model_module": "@jupyter-widgets/controls",
      "model_module_version": "2.0.0",
      "model_name": "CheckboxModel",
      "state": {
       "description": "Refregirateur3",
       "disabled": false,
       "layout": "IPY_MODEL_af5cdec8c2ca4f16abfd0ffdfa22ffb6",
       "style": "IPY_MODEL_b1484083a087454db2ed0294e61c8237",
       "value": false
      }
     },
     "1577754df5a64f6f884be8bb84c19623": {
      "model_module": "@jupyter-widgets/base",
      "model_module_version": "2.0.0",
      "model_name": "LayoutModel",
      "state": {}
     },
     "15b2c5c33ff141f582c0d2d077fa4810": {
      "model_module": "@jupyter-widgets/controls",
      "model_module_version": "2.0.0",
      "model_name": "CheckboxModel",
      "state": {
       "description": "Incubateur1",
       "disabled": false,
       "layout": "IPY_MODEL_641cdad8522d44d58b426af85364d9f0",
       "style": "IPY_MODEL_3a563822f0514bd389dbd0bcf124f221",
       "value": false
      }
     },
     "17be29c8b8664395911f50fb075b6b49": {
      "model_module": "@jupyter-widgets/controls",
      "model_module_version": "2.0.0",
      "model_name": "CheckboxStyleModel",
      "state": {
       "description_width": ""
      }
     },
     "1c06936dd231489b8b5277545a34953f": {
      "model_module": "@jupyter-widgets/base",
      "model_module_version": "2.0.0",
      "model_name": "LayoutModel",
      "state": {}
     },
     "1e7f2b80b7a648a2b8c75400f68ebaa0": {
      "model_module": "@jupyter-widgets/base",
      "model_module_version": "2.0.0",
      "model_name": "LayoutModel",
      "state": {}
     },
     "1e88297a59d44c2ebb0e3d6a77943f1e": {
      "model_module": "@jupyter-widgets/controls",
      "model_module_version": "2.0.0",
      "model_name": "DescriptionStyleModel",
      "state": {
       "description_width": ""
      }
     },
     "1e9448de9eb746d2af9ea9f0d32f2b41": {
      "model_module": "@jupyter-widgets/controls",
      "model_module_version": "2.0.0",
      "model_name": "DescriptionStyleModel",
      "state": {
       "description_width": ""
      }
     },
     "1edcafa53eb9454eb78b91549a7ab46c": {
      "model_module": "@jupyter-widgets/controls",
      "model_module_version": "2.0.0",
      "model_name": "CheckboxModel",
      "state": {
       "description": "Refregirateur5",
       "disabled": false,
       "layout": "IPY_MODEL_9168d9fa83e3408abb84d54c18fcccc9",
       "style": "IPY_MODEL_65735d61ba774f10a12b9dd375d292bc",
       "value": false
      }
     },
     "1f2267f6b9db4b29a2aa1bfc51117204": {
      "model_module": "@jupyter-widgets/controls",
      "model_module_version": "2.0.0",
      "model_name": "CheckboxStyleModel",
      "state": {
       "description_width": ""
      }
     },
     "20ab4c87d1ac44f391361f394d4980c7": {
      "model_module": "@jupyter-widgets/base",
      "model_module_version": "2.0.0",
      "model_name": "LayoutModel",
      "state": {}
     },
     "20e1e1acdbc74100a4247ac45fd4b4a5": {
      "model_module": "@jupyter-widgets/base",
      "model_module_version": "2.0.0",
      "model_name": "LayoutModel",
      "state": {}
     },
     "22887ff0011442e79280ea5b6f3881e8": {
      "model_module": "@jupyter-widgets/controls",
      "model_module_version": "2.0.0",
      "model_name": "CheckboxStyleModel",
      "state": {
       "description_width": ""
      }
     },
     "2412f2b3d6b54035a9f937c3582106e2": {
      "model_module": "@jupyter-widgets/base",
      "model_module_version": "2.0.0",
      "model_name": "LayoutModel",
      "state": {}
     },
     "241d70a18d1f4c19b86df346c1a39f94": {
      "model_module": "@jupyter-widgets/controls",
      "model_module_version": "2.0.0",
      "model_name": "CheckboxModel",
      "state": {
       "description": "Etuve1",
       "disabled": false,
       "layout": "IPY_MODEL_e7847a73f8e14355878b097baf40477f",
       "style": "IPY_MODEL_e0e1349ac26a46a8b0db973a55ce4d9f",
       "value": true
      }
     },
     "263ee00ee316468e9bd4df75cc2301df": {
      "model_module": "@jupyter-widgets/base",
      "model_module_version": "2.0.0",
      "model_name": "LayoutModel",
      "state": {}
     },
     "266154fd5c51410cbc27c7da359ef451": {
      "model_module": "@jupyter-widgets/controls",
      "model_module_version": "2.0.0",
      "model_name": "CheckboxStyleModel",
      "state": {
       "description_width": ""
      }
     },
     "26895f371fc54a71b06158c1f4020dba": {
      "model_module": "@jupyter-widgets/base",
      "model_module_version": "2.0.0",
      "model_name": "LayoutModel",
      "state": {}
     },
     "268e3f9fb7d742339c809f2571f441b8": {
      "model_module": "@jupyter-widgets/base",
      "model_module_version": "2.0.0",
      "model_name": "LayoutModel",
      "state": {}
     },
     "27484b00e09e4e1ea442f2050009869d": {
      "model_module": "@jupyter-widgets/controls",
      "model_module_version": "2.0.0",
      "model_name": "CheckboxStyleModel",
      "state": {
       "description_width": ""
      }
     },
     "27e17d4163b540b7b118bac679d35759": {
      "model_module": "@jupyter-widgets/controls",
      "model_module_version": "2.0.0",
      "model_name": "CheckboxModel",
      "state": {
       "description": "Refregirateur2",
       "disabled": false,
       "layout": "IPY_MODEL_4671d95a1bff47c8b3347a2727101afc",
       "style": "IPY_MODEL_2e20b97398d34a02b78dc32cd7ed52b9",
       "value": false
      }
     },
     "29b28e94f8664921a97ca053b67be287": {
      "model_module": "@jupyter-widgets/controls",
      "model_module_version": "2.0.0",
      "model_name": "NaiveDatetimeModel",
      "state": {
       "description": "date de début",
       "layout": "IPY_MODEL_81f35023693e412d82c106da39691931",
       "style": "IPY_MODEL_5b559f0ef073405e8f0a55eb3ac40c44",
       "value": {
        "date": 1,
        "hours": 0,
        "milliseconds": 0,
        "minutes": 0,
        "month": 0,
        "seconds": 0,
        "year": 2022
       }
      }
     },
     "2c8f9f549c5c40dea3a2e71033b9af3e": {
      "model_module": "@jupyter-widgets/controls",
      "model_module_version": "2.0.0",
      "model_name": "CheckboxStyleModel",
      "state": {
       "description_width": ""
      }
     },
     "2d7600b3734b4c3d8c485e688600aadd": {
      "model_module": "@jupyter-widgets/base",
      "model_module_version": "2.0.0",
      "model_name": "LayoutModel",
      "state": {}
     },
     "2ddc1ce0b0fa4506b5f1a1a006720fa4": {
      "model_module": "@jupyter-widgets/controls",
      "model_module_version": "2.0.0",
      "model_name": "CheckboxStyleModel",
      "state": {
       "description_width": ""
      }
     },
     "2e20b97398d34a02b78dc32cd7ed52b9": {
      "model_module": "@jupyter-widgets/controls",
      "model_module_version": "2.0.0",
      "model_name": "CheckboxStyleModel",
      "state": {
       "description_width": ""
      }
     },
     "32846e27031b4a75b87ece2ada3763b9": {
      "model_module": "@jupyter-widgets/controls",
      "model_module_version": "2.0.0",
      "model_name": "CheckboxStyleModel",
      "state": {
       "description_width": ""
      }
     },
     "32ad1acdc89a4a4db17a2f2d3d51c32c": {
      "model_module": "@jupyter-widgets/controls",
      "model_module_version": "2.0.0",
      "model_name": "CheckboxModel",
      "state": {
       "description": "Refregirateur5",
       "disabled": false,
       "layout": "IPY_MODEL_1e7f2b80b7a648a2b8c75400f68ebaa0",
       "style": "IPY_MODEL_b6669834ec32411eb7fc8c9c8273d10c",
       "value": false
      }
     },
     "33198d9cf11c426cbbdd88c5def26057": {
      "model_module": "@jupyter-widgets/controls",
      "model_module_version": "2.0.0",
      "model_name": "CheckboxStyleModel",
      "state": {
       "description_width": ""
      }
     },
     "33c6b3112770402998ce1e2e48614dc1": {
      "model_module": "@jupyter-widgets/controls",
      "model_module_version": "2.0.0",
      "model_name": "CheckboxModel",
      "state": {
       "description": "Preleveur1",
       "disabled": false,
       "layout": "IPY_MODEL_e180555767574d12be117bba4f643ee2",
       "style": "IPY_MODEL_2ddc1ce0b0fa4506b5f1a1a006720fa4",
       "value": false
      }
     },
     "34760fe8a52947ddab0f5d23c2cdbd0e": {
      "model_module": "@jupyter-widgets/controls",
      "model_module_version": "2.0.0",
      "model_name": "CheckboxStyleModel",
      "state": {
       "description_width": ""
      }
     },
     "351f155718284964aae6d1ca55db13b7": {
      "model_module": "@jupyter-widgets/base",
      "model_module_version": "2.0.0",
      "model_name": "LayoutModel",
      "state": {}
     },
     "36219e4e72d7485a949ace7d3b04bdd0": {
      "model_module": "@jupyter-widgets/base",
      "model_module_version": "2.0.0",
      "model_name": "LayoutModel",
      "state": {}
     },
     "362881ef099c4140ae3c20d66b802954": {
      "model_module": "@jupyter-widgets/controls",
      "model_module_version": "2.0.0",
      "model_name": "NaiveDatetimeModel",
      "state": {
       "description": "date de début",
       "layout": "IPY_MODEL_e76df2af956e461d98ce943d2aded0c8",
       "style": "IPY_MODEL_64cf6f6ff2ed42548cd9838f526f2906",
       "value": {
        "date": 1,
        "hours": 0,
        "milliseconds": 0,
        "minutes": 0,
        "month": 0,
        "seconds": 0,
        "year": 2022
       }
      }
     },
     "384118f9ba4e4750b2a6279c5726c7e8": {
      "model_module": "@jupyter-widgets/controls",
      "model_module_version": "2.0.0",
      "model_name": "CheckboxStyleModel",
      "state": {
       "description_width": ""
      }
     },
     "38760438ab8a4819b49906cdf4983553": {
      "model_module": "@jupyter-widgets/controls",
      "model_module_version": "2.0.0",
      "model_name": "CheckboxModel",
      "state": {
       "description": "Refregirateur5",
       "disabled": false,
       "layout": "IPY_MODEL_ff61a176262f4e21b790c81340a06392",
       "style": "IPY_MODEL_c64e5425014f4b6f9c1f30a7b9d23a1b",
       "value": false
      }
     },
     "39a7def9a760498eb24e4e7dbc828d98": {
      "model_module": "@jupyter-widgets/base",
      "model_module_version": "2.0.0",
      "model_name": "LayoutModel",
      "state": {}
     },
     "39e267d162b64cd8984cf0dafd8a5ce3": {
      "model_module": "@jupyter-widgets/controls",
      "model_module_version": "2.0.0",
      "model_name": "CheckboxModel",
      "state": {
       "description": "Etuve2",
       "disabled": false,
       "layout": "IPY_MODEL_9325f04050e04b1bad4e22ae88466987",
       "style": "IPY_MODEL_463dd8232ffd48c2af9b080f3bf83552",
       "value": true
      }
     },
     "3a563822f0514bd389dbd0bcf124f221": {
      "model_module": "@jupyter-widgets/controls",
      "model_module_version": "2.0.0",
      "model_name": "CheckboxStyleModel",
      "state": {
       "description_width": ""
      }
     },
     "3a69e3e789464666aff54ca1f1a72a69": {
      "model_module": "@jupyter-widgets/controls",
      "model_module_version": "2.0.0",
      "model_name": "CheckboxModel",
      "state": {
       "description": "Refregirateur2",
       "disabled": false,
       "layout": "IPY_MODEL_c14d341ad2884e5b8243fb3c04b691be",
       "style": "IPY_MODEL_ce13ab63c12b4a43b8e8db1b8ad49813",
       "value": false
      }
     },
     "3bf172de6fe648f69b53c62bb5a1323c": {
      "model_module": "@jupyter-widgets/controls",
      "model_module_version": "2.0.0",
      "model_name": "CheckboxModel",
      "state": {
       "description": "Incubateur2",
       "disabled": false,
       "layout": "IPY_MODEL_5b5b1835d92e4e6b95e40a1d56925c17",
       "style": "IPY_MODEL_930974d21f044829933ff33c843c2f99",
       "value": false
      }
     },
     "3c7cb1d45361464b8db126ca356f8b6d": {
      "model_module": "@jupyter-widgets/controls",
      "model_module_version": "2.0.0",
      "model_name": "CheckboxModel",
      "state": {
       "description": "Refregirateur1",
       "disabled": false,
       "layout": "IPY_MODEL_ca8c5ab7da4c4a06aee486e060b91786",
       "style": "IPY_MODEL_17be29c8b8664395911f50fb075b6b49",
       "value": false
      }
     },
     "3e05d0ae042d4fb4afadee4da902781f": {
      "model_module": "@jupyter-widgets/controls",
      "model_module_version": "2.0.0",
      "model_name": "CheckboxStyleModel",
      "state": {
       "description_width": ""
      }
     },
     "3e9cb1ca35304e02b6be0f188e55d6dc": {
      "model_module": "@jupyter-widgets/controls",
      "model_module_version": "2.0.0",
      "model_name": "CheckboxModel",
      "state": {
       "description": "Etuve2",
       "disabled": false,
       "layout": "IPY_MODEL_2d7600b3734b4c3d8c485e688600aadd",
       "style": "IPY_MODEL_792c9f76e75f435cac7e9389ab457bd7",
       "value": true
      }
     },
     "3ebd09b9361545679a6e29e949a82aef": {
      "model_module": "@jupyter-widgets/base",
      "model_module_version": "2.0.0",
      "model_name": "LayoutModel",
      "state": {}
     },
     "3f3813bca6514f99b63942f969b8466e": {
      "model_module": "@jupyter-widgets/controls",
      "model_module_version": "2.0.0",
      "model_name": "CheckboxModel",
      "state": {
       "description": "Refregirateur3",
       "disabled": false,
       "layout": "IPY_MODEL_1577754df5a64f6f884be8bb84c19623",
       "style": "IPY_MODEL_d02663d875974aeb9852b3f6f1b9cf41",
       "value": false
      }
     },
     "41b192e0444b407ba7a5bff801780990": {
      "model_module": "@jupyter-widgets/base",
      "model_module_version": "2.0.0",
      "model_name": "LayoutModel",
      "state": {}
     },
     "42605f63d70f49ebbc4897049e432127": {
      "model_module": "@jupyter-widgets/base",
      "model_module_version": "2.0.0",
      "model_name": "LayoutModel",
      "state": {}
     },
     "42db229804bb491a83505a2128965775": {
      "model_module": "@jupyter-widgets/base",
      "model_module_version": "2.0.0",
      "model_name": "LayoutModel",
      "state": {}
     },
     "43ef411f58f94b068c1744b409a5cdff": {
      "model_module": "@jupyter-widgets/controls",
      "model_module_version": "2.0.0",
      "model_name": "CheckboxModel",
      "state": {
       "description": "Incubateur1",
       "disabled": false,
       "layout": "IPY_MODEL_a8d609ec2fd947b6a507971d2f1b1b9f",
       "style": "IPY_MODEL_8afe992879794dd58f194c4875ffa3b6",
       "value": false
      }
     },
     "463dd8232ffd48c2af9b080f3bf83552": {
      "model_module": "@jupyter-widgets/controls",
      "model_module_version": "2.0.0",
      "model_name": "CheckboxStyleModel",
      "state": {
       "description_width": ""
      }
     },
     "4671d95a1bff47c8b3347a2727101afc": {
      "model_module": "@jupyter-widgets/base",
      "model_module_version": "2.0.0",
      "model_name": "LayoutModel",
      "state": {}
     },
     "46736cd02b7641f0af7b79e3f1fa8f32": {
      "model_module": "@jupyter-widgets/controls",
      "model_module_version": "2.0.0",
      "model_name": "CheckboxModel",
      "state": {
       "description": "Refregirateur3",
       "disabled": false,
       "layout": "IPY_MODEL_3ebd09b9361545679a6e29e949a82aef",
       "style": "IPY_MODEL_b8cd59cc6c8e43cc8c2f32cd0bfb864a",
       "value": false
      }
     },
     "494df17c78ca4d61a521ed58ff2ee8c9": {
      "model_module": "@jupyter-widgets/controls",
      "model_module_version": "2.0.0",
      "model_name": "FloatRangeSliderModel",
      "state": {
       "_model_name": "FloatRangeSliderModel",
       "_view_name": "FloatRangeSliderView",
       "behavior": "drag-tap",
       "description": "filtre",
       "layout": "IPY_MODEL_ba14558995e5412a9bc909abd1d2b440",
       "max": 120,
       "readout_format": ".1f",
       "step": 0.1,
       "style": "IPY_MODEL_e7b8d431002d4dc494505d2c4998d990",
       "value": [
        103,
        106.99999999999999
       ]
      }
     },
     "497326f5f6a048b8bb53425d509043d9": {
      "model_module": "@jupyter-widgets/controls",
      "model_module_version": "2.0.0",
      "model_name": "CheckboxModel",
      "state": {
       "description": "Incubateur2",
       "disabled": false,
       "layout": "IPY_MODEL_eb06e3f462594dd0b8cf3892fc45d182",
       "style": "IPY_MODEL_a5a71baec40745b6a8cf089b897460c5",
       "value": false
      }
     },
     "4a6a6883922a4ff8b7df4850873aad0f": {
      "model_module": "@jupyter-widgets/base",
      "model_module_version": "2.0.0",
      "model_name": "LayoutModel",
      "state": {}
     },
     "4ccfab21923f4a9aab225d75d8efa7ef": {
      "model_module": "@jupyter-widgets/base",
      "model_module_version": "2.0.0",
      "model_name": "LayoutModel",
      "state": {}
     },
     "4eb74dd3c62f40a5beb68092f8d37ceb": {
      "model_module": "@jupyter-widgets/controls",
      "model_module_version": "2.0.0",
      "model_name": "CheckboxModel",
      "state": {
       "description": "Refregirateur4",
       "disabled": false,
       "layout": "IPY_MODEL_10c806fbec7f4b599762994f1fcbc181",
       "style": "IPY_MODEL_4f36e860d7d240cba68bc745a542f869",
       "value": false
      }
     },
     "4f36e860d7d240cba68bc745a542f869": {
      "model_module": "@jupyter-widgets/controls",
      "model_module_version": "2.0.0",
      "model_name": "CheckboxStyleModel",
      "state": {
       "description_width": ""
      }
     },
     "4f409a3faf324a81839002f7770bd0fb": {
      "model_module": "@jupyter-widgets/base",
      "model_module_version": "2.0.0",
      "model_name": "LayoutModel",
      "state": {}
     },
     "5075224ae8504e92add74fbd8483824c": {
      "model_module": "@jupyter-widgets/base",
      "model_module_version": "2.0.0",
      "model_name": "LayoutModel",
      "state": {}
     },
     "5321c95736974624927ee9002e5879c4": {
      "model_module": "@jupyter-widgets/base",
      "model_module_version": "2.0.0",
      "model_name": "LayoutModel",
      "state": {}
     },
     "55d7fee7d72f4c32a87155dc8e404c40": {
      "model_module": "@jupyter-widgets/base",
      "model_module_version": "2.0.0",
      "model_name": "LayoutModel",
      "state": {}
     },
     "57064a754a7149afb000163da8bf3cd6": {
      "model_module": "@jupyter-widgets/controls",
      "model_module_version": "2.0.0",
      "model_name": "FloatRangeSliderModel",
      "state": {
       "_model_name": "FloatRangeSliderModel",
       "_view_name": "FloatRangeSliderView",
       "behavior": "drag-tap",
       "description": "limites des valeurs",
       "layout": "IPY_MODEL_9062d5aea70d46378ce080701fe55921",
       "max": 120,
       "step": 0.1,
       "style": "IPY_MODEL_f534926ab7a84a0181ece61aea132132",
       "value": [
        100,
        120
       ]
      }
     },
     "57796520033e4e81b3870ca2bc4d28c3": {
      "model_module": "@jupyter-widgets/base",
      "model_module_version": "2.0.0",
      "model_name": "LayoutModel",
      "state": {}
     },
     "58610a67e5894f20ae11effc0f5f2819": {
      "model_module": "@jupyter-widgets/controls",
      "model_module_version": "2.0.0",
      "model_name": "CheckboxModel",
      "state": {
       "description": "Preleveur1",
       "disabled": false,
       "layout": "IPY_MODEL_a748c05958d540718877ebdc0a8ec9ef",
       "style": "IPY_MODEL_22887ff0011442e79280ea5b6f3881e8",
       "value": false
      }
     },
     "58c0ba2c8d2545a7a57645e86ec41ea5": {
      "model_module": "@jupyter-widgets/base",
      "model_module_version": "2.0.0",
      "model_name": "LayoutModel",
      "state": {}
     },
     "5b559f0ef073405e8f0a55eb3ac40c44": {
      "model_module": "@jupyter-widgets/controls",
      "model_module_version": "2.0.0",
      "model_name": "DescriptionStyleModel",
      "state": {
       "description_width": ""
      }
     },
     "5b5b1835d92e4e6b95e40a1d56925c17": {
      "model_module": "@jupyter-widgets/base",
      "model_module_version": "2.0.0",
      "model_name": "LayoutModel",
      "state": {}
     },
     "5b755906a6a449c1bb6bc65d727151dd": {
      "model_module": "@jupyter-widgets/controls",
      "model_module_version": "2.0.0",
      "model_name": "AccordionModel",
      "state": {
       "children": [
        "IPY_MODEL_bb4cbf6de45d4925bf78b79f30611f8d"
       ],
       "layout": "IPY_MODEL_631e2a8595d045e285932da493ff778a",
       "titles": [
        "Machines à afficher"
       ]
      }
     },
     "5d191c4932b944c4a337527c377136a8": {
      "model_module": "@jupyter-widgets/controls",
      "model_module_version": "2.0.0",
      "model_name": "CheckboxModel",
      "state": {
       "description": "Preleveur1",
       "disabled": false,
       "layout": "IPY_MODEL_82c362d10587455a96f55ef7d73b39db",
       "style": "IPY_MODEL_75c60887af7344238b6d43dea6c48b40",
       "value": false
      }
     },
     "5fa8c6d5cf0043c6acab3a1324ee82f4": {
      "model_module": "@jupyter-widgets/controls",
      "model_module_version": "2.0.0",
      "model_name": "CheckboxStyleModel",
      "state": {
       "description_width": ""
      }
     },
     "5fd811648c334d8fbcd555db56ec6929": {
      "model_module": "@jupyter-widgets/controls",
      "model_module_version": "2.0.0",
      "model_name": "NaiveDatetimeModel",
      "state": {
       "description": "date de fin",
       "layout": "IPY_MODEL_7d298e55cfd242f2883915d3176f742e",
       "style": "IPY_MODEL_d758043449734efda3679d003726f1a7",
       "value": {
        "date": 15,
        "hours": 16,
        "milliseconds": 0,
        "minutes": 40,
        "month": 8,
        "seconds": 0,
        "year": 2022
       }
      }
     },
     "604d094152ea4f7a91c5ebd750d0a9a7": {
      "model_module": "@jupyter-widgets/controls",
      "model_module_version": "2.0.0",
      "model_name": "AccordionModel",
      "state": {
       "children": [
        "IPY_MODEL_9a9a8955e0764902a3ee8cd6d2f789b9"
       ],
       "layout": "IPY_MODEL_ea87b340e5a34b5b81af4a8c95f8e2e8",
       "selected_index": 0,
       "titles": [
        "Machines à afficher"
       ]
      }
     },
     "631e2a8595d045e285932da493ff778a": {
      "model_module": "@jupyter-widgets/base",
      "model_module_version": "2.0.0",
      "model_name": "LayoutModel",
      "state": {}
     },
     "641cdad8522d44d58b426af85364d9f0": {
      "model_module": "@jupyter-widgets/base",
      "model_module_version": "2.0.0",
      "model_name": "LayoutModel",
      "state": {}
     },
     "64cf6f6ff2ed42548cd9838f526f2906": {
      "model_module": "@jupyter-widgets/controls",
      "model_module_version": "2.0.0",
      "model_name": "DescriptionStyleModel",
      "state": {
       "description_width": ""
      }
     },
     "65735d61ba774f10a12b9dd375d292bc": {
      "model_module": "@jupyter-widgets/controls",
      "model_module_version": "2.0.0",
      "model_name": "CheckboxStyleModel",
      "state": {
       "description_width": ""
      }
     },
     "65ca2411db644d4da1149a156abd718e": {
      "model_module": "@jupyter-widgets/controls",
      "model_module_version": "2.0.0",
      "model_name": "CheckboxModel",
      "state": {
       "description": "Refregirateur4",
       "disabled": false,
       "layout": "IPY_MODEL_c357565b81694918a5a3a9bd76c0776d",
       "style": "IPY_MODEL_384118f9ba4e4750b2a6279c5726c7e8",
       "value": false
      }
     },
     "66f83d2daf684690b4a31b94594c6481": {
      "model_module": "@jupyter-widgets/controls",
      "model_module_version": "2.0.0",
      "model_name": "CheckboxModel",
      "state": {
       "description": "Refregirateur2",
       "disabled": false,
       "layout": "IPY_MODEL_ab4647aa9adc4e34b320db6d4fdc2eaa",
       "style": "IPY_MODEL_c78026fbf2c4425095374a627fb92b5d",
       "value": false
      }
     },
     "67b45a9d0e1c417d939f62862673a2ed": {
      "model_module": "@jupyter-widgets/base",
      "model_module_version": "2.0.0",
      "model_name": "LayoutModel",
      "state": {}
     },
     "6c1a7a0cb80c422ab111c1eb29e378d7": {
      "model_module": "@jupyter-widgets/base",
      "model_module_version": "2.0.0",
      "model_name": "LayoutModel",
      "state": {}
     },
     "6d773aba84c44608a8ece06a54514d26": {
      "model_module": "@jupyter-widgets/controls",
      "model_module_version": "2.0.0",
      "model_name": "CheckboxModel",
      "state": {
       "description": "Refregirateur4",
       "disabled": false,
       "layout": "IPY_MODEL_263ee00ee316468e9bd4df75cc2301df",
       "style": "IPY_MODEL_ea912c0e6aaf41bf887187ecdc0b71d4",
       "value": false
      }
     },
     "6d7b90c4e0024643a212b606a0c29880": {
      "model_module": "@jupyter-widgets/controls",
      "model_module_version": "2.0.0",
      "model_name": "CheckboxStyleModel",
      "state": {
       "description_width": ""
      }
     },
     "715377570e3d47f2af04eb35a2b09a83": {
      "model_module": "@jupyter-widgets/controls",
      "model_module_version": "2.0.0",
      "model_name": "CheckboxStyleModel",
      "state": {
       "description_width": ""
      }
     },
     "71fd23b4213d4c608fd54587f53841c5": {
      "model_module": "@jupyter-widgets/base",
      "model_module_version": "2.0.0",
      "model_name": "LayoutModel",
      "state": {}
     },
     "72fe3aef0dc54a1d9b17ef599f832272": {
      "model_module": "@jupyter-widgets/controls",
      "model_module_version": "2.0.0",
      "model_name": "AccordionModel",
      "state": {
       "children": [
        "IPY_MODEL_e3873ad5e28640dbbfeb48e132e025f9"
       ],
       "layout": "IPY_MODEL_6c1a7a0cb80c422ab111c1eb29e378d7",
       "titles": [
        "Machines à afficher"
       ]
      }
     },
     "7304d97735ae4038b86fc145e1f6a808": {
      "model_module": "@jupyter-widgets/controls",
      "model_module_version": "2.0.0",
      "model_name": "CheckboxStyleModel",
      "state": {
       "description_width": ""
      }
     },
     "733729c3ad184782bef4f10b0540055c": {
      "model_module": "@jupyter-widgets/base",
      "model_module_version": "2.0.0",
      "model_name": "LayoutModel",
      "state": {}
     },
     "73652138f03244b29a0909a55c4e51ab": {
      "model_module": "@jupyter-widgets/controls",
      "model_module_version": "2.0.0",
      "model_name": "CheckboxStyleModel",
      "state": {
       "description_width": ""
      }
     },
     "740707b9df7c4f4cb00db89c9323215a": {
      "model_module": "@jupyter-widgets/controls",
      "model_module_version": "2.0.0",
      "model_name": "NaiveDatetimeModel",
      "state": {
       "description": "date de début",
       "layout": "IPY_MODEL_b50e4de21c3c467e83773d17aa9ee2e8",
       "style": "IPY_MODEL_8180d9e15929481b97e921d8180a0cbb",
       "value": {
        "date": 1,
        "hours": 0,
        "milliseconds": 0,
        "minutes": 0,
        "month": 0,
        "seconds": 0,
        "year": 2022
       }
      }
     },
     "745bd8ac2fcd4466beb0b11b17a1ac5d": {
      "model_module": "@jupyter-widgets/controls",
      "model_module_version": "2.0.0",
      "model_name": "CheckboxStyleModel",
      "state": {
       "description_width": ""
      }
     },
     "75c60887af7344238b6d43dea6c48b40": {
      "model_module": "@jupyter-widgets/controls",
      "model_module_version": "2.0.0",
      "model_name": "CheckboxStyleModel",
      "state": {
       "description_width": ""
      }
     },
     "75e23cf13b56412f95fd1d79bfd911dd": {
      "model_module": "@jupyter-widgets/controls",
      "model_module_version": "2.0.0",
      "model_name": "CheckboxModel",
      "state": {
       "description": "Refregirateur1",
       "disabled": false,
       "layout": "IPY_MODEL_39a7def9a760498eb24e4e7dbc828d98",
       "style": "IPY_MODEL_7304d97735ae4038b86fc145e1f6a808",
       "value": false
      }
     },
     "76d0249013bc4f3091e96ef1f9588fcd": {
      "model_module": "@jupyter-widgets/controls",
      "model_module_version": "2.0.0",
      "model_name": "CheckboxModel",
      "state": {
       "description": "Refregirateur2",
       "disabled": false,
       "layout": "IPY_MODEL_aca27896ee2040398ca5baa413843efd",
       "style": "IPY_MODEL_73652138f03244b29a0909a55c4e51ab",
       "value": false
      }
     },
     "77162c8ec1f04983abca315fee1d0f4a": {
      "model_module": "@jupyter-widgets/base",
      "model_module_version": "2.0.0",
      "model_name": "LayoutModel",
      "state": {}
     },
     "780dcd67ac9342228b440832d5d52e84": {
      "model_module": "@jupyter-widgets/output",
      "model_module_version": "1.0.0",
      "model_name": "OutputModel",
      "state": {
       "layout": "IPY_MODEL_c3d8ba691b0f43b894de74d23645be79"
      }
     },
     "792c9f76e75f435cac7e9389ab457bd7": {
      "model_module": "@jupyter-widgets/controls",
      "model_module_version": "2.0.0",
      "model_name": "CheckboxStyleModel",
      "state": {
       "description_width": ""
      }
     },
     "7972614df3a94f6c961888fda446bf7e": {
      "model_module": "@jupyter-widgets/controls",
      "model_module_version": "2.0.0",
      "model_name": "CheckboxStyleModel",
      "state": {
       "description_width": ""
      }
     },
     "79bb33cdd5564557b4ddb85cfac1961b": {
      "model_module": "@jupyter-widgets/controls",
      "model_module_version": "2.0.0",
      "model_name": "CheckboxModel",
      "state": {
       "description": "Refregirateur1",
       "disabled": false,
       "layout": "IPY_MODEL_f1e386c24b014d0fb106b789da3327b4",
       "style": "IPY_MODEL_b13fb2e947a345c29b958f3cdf956d29",
       "value": false
      }
     },
     "7a615ef87e27426c95112bba0ed3ff79": {
      "model_module": "@jupyter-widgets/base",
      "model_module_version": "2.0.0",
      "model_name": "LayoutModel",
      "state": {}
     },
     "7d298e55cfd242f2883915d3176f742e": {
      "model_module": "@jupyter-widgets/base",
      "model_module_version": "2.0.0",
      "model_name": "LayoutModel",
      "state": {}
     },
     "7e79de2f76c4489380c86af14fff3647": {
      "model_module": "@jupyter-widgets/controls",
      "model_module_version": "2.0.0",
      "model_name": "CheckboxModel",
      "state": {
       "description": "Refregirateur1",
       "disabled": false,
       "layout": "IPY_MODEL_c51785614c924a25952f6d535d620672",
       "style": "IPY_MODEL_34760fe8a52947ddab0f5d23c2cdbd0e",
       "value": false
      }
     },
     "7f2897ace49d4ee5822d0d7c6068c1c5": {
      "model_module": "@jupyter-widgets/controls",
      "model_module_version": "2.0.0",
      "model_name": "CheckboxModel",
      "state": {
       "description": "Etuve2",
       "disabled": false,
       "layout": "IPY_MODEL_20ab4c87d1ac44f391361f394d4980c7",
       "style": "IPY_MODEL_0e34924c196646f7ae70eae498c1df9d",
       "value": true
      }
     },
     "8180d9e15929481b97e921d8180a0cbb": {
      "model_module": "@jupyter-widgets/controls",
      "model_module_version": "2.0.0",
      "model_name": "DescriptionStyleModel",
      "state": {
       "description_width": ""
      }
     },
     "81f35023693e412d82c106da39691931": {
      "model_module": "@jupyter-widgets/base",
      "model_module_version": "2.0.0",
      "model_name": "LayoutModel",
      "state": {}
     },
     "82c362d10587455a96f55ef7d73b39db": {
      "model_module": "@jupyter-widgets/base",
      "model_module_version": "2.0.0",
      "model_name": "LayoutModel",
      "state": {}
     },
     "834189b0c09d453cb8854e1e92b3ba05": {
      "model_module": "@jupyter-widgets/controls",
      "model_module_version": "2.0.0",
      "model_name": "CheckboxModel",
      "state": {
       "description": "Incubateur1",
       "disabled": false,
       "layout": "IPY_MODEL_2412f2b3d6b54035a9f937c3582106e2",
       "style": "IPY_MODEL_2c8f9f549c5c40dea3a2e71033b9af3e",
       "value": false
      }
     },
     "841ea4802b364062bac517f97210ae3f": {
      "model_module": "@jupyter-widgets/base",
      "model_module_version": "2.0.0",
      "model_name": "LayoutModel",
      "state": {}
     },
     "8533808787fa4299bb2d6dca18f1a645": {
      "model_module": "@jupyter-widgets/controls",
      "model_module_version": "2.0.0",
      "model_name": "DescriptionStyleModel",
      "state": {
       "description_width": ""
      }
     },
     "8555723f49aa43caaac563a94c5c70bf": {
      "model_module": "@jupyter-widgets/controls",
      "model_module_version": "2.0.0",
      "model_name": "CheckboxModel",
      "state": {
       "description": "Incubateur2",
       "disabled": false,
       "layout": "IPY_MODEL_d30630f191f74ea591e042486f2b5d4e",
       "style": "IPY_MODEL_8f7a16a4af044fb8a00b8cad5a634051",
       "value": false
      }
     },
     "8596b827437f421fa222a07df8ad12fe": {
      "model_module": "@jupyter-widgets/base",
      "model_module_version": "2.0.0",
      "model_name": "LayoutModel",
      "state": {}
     },
     "8afe992879794dd58f194c4875ffa3b6": {
      "model_module": "@jupyter-widgets/controls",
      "model_module_version": "2.0.0",
      "model_name": "CheckboxStyleModel",
      "state": {
       "description_width": ""
      }
     },
     "8cd16fd8ef7743ef82f4fed97f9bcda5": {
      "model_module": "@jupyter-widgets/controls",
      "model_module_version": "2.0.0",
      "model_name": "CheckboxModel",
      "state": {
       "description": "Refregirateur4",
       "disabled": false,
       "layout": "IPY_MODEL_55d7fee7d72f4c32a87155dc8e404c40",
       "style": "IPY_MODEL_6d7b90c4e0024643a212b606a0c29880",
       "value": false
      }
     },
     "8de855795e5d4a158393c603a669f32f": {
      "model_module": "@jupyter-widgets/base",
      "model_module_version": "2.0.0",
      "model_name": "LayoutModel",
      "state": {}
     },
     "8f7a16a4af044fb8a00b8cad5a634051": {
      "model_module": "@jupyter-widgets/controls",
      "model_module_version": "2.0.0",
      "model_name": "CheckboxStyleModel",
      "state": {
       "description_width": ""
      }
     },
     "9062d5aea70d46378ce080701fe55921": {
      "model_module": "@jupyter-widgets/base",
      "model_module_version": "2.0.0",
      "model_name": "LayoutModel",
      "state": {}
     },
     "90db799ab6f44e9ba99debb70481129d": {
      "model_module": "@jupyter-widgets/base",
      "model_module_version": "2.0.0",
      "model_name": "LayoutModel",
      "state": {}
     },
     "911038fdd61544bc9a125639ed0500fb": {
      "model_module": "@jupyter-widgets/base",
      "model_module_version": "2.0.0",
      "model_name": "LayoutModel",
      "state": {}
     },
     "9168d9fa83e3408abb84d54c18fcccc9": {
      "model_module": "@jupyter-widgets/base",
      "model_module_version": "2.0.0",
      "model_name": "LayoutModel",
      "state": {}
     },
     "930974d21f044829933ff33c843c2f99": {
      "model_module": "@jupyter-widgets/controls",
      "model_module_version": "2.0.0",
      "model_name": "CheckboxStyleModel",
      "state": {
       "description_width": ""
      }
     },
     "9320a849860c4952b9c45fd3b99bed80": {
      "model_module": "@jupyter-widgets/controls",
      "model_module_version": "2.0.0",
      "model_name": "CheckboxModel",
      "state": {
       "description": "Etuve1",
       "disabled": false,
       "layout": "IPY_MODEL_42db229804bb491a83505a2128965775",
       "style": "IPY_MODEL_d3b0a63bdaa544c1bf378f4befae50db",
       "value": true
      }
     },
     "9325f04050e04b1bad4e22ae88466987": {
      "model_module": "@jupyter-widgets/base",
      "model_module_version": "2.0.0",
      "model_name": "LayoutModel",
      "state": {}
     },
     "94d5f916a4064ffb974ba14509569915": {
      "model_module": "@jupyter-widgets/controls",
      "model_module_version": "2.0.0",
      "model_name": "CheckboxModel",
      "state": {
       "description": "Incubateur1",
       "disabled": false,
       "layout": "IPY_MODEL_7a615ef87e27426c95112bba0ed3ff79",
       "style": "IPY_MODEL_087be81f59c44734a261aaab4731e79f",
       "value": false
      }
     },
     "961cbbf5df554124858f4c92d7571e75": {
      "model_module": "@jupyter-widgets/controls",
      "model_module_version": "2.0.0",
      "model_name": "CheckboxModel",
      "state": {
       "description": "Refregirateur4",
       "disabled": false,
       "layout": "IPY_MODEL_b9ba3c510e0646178d45bc9c0d6e6009",
       "style": "IPY_MODEL_33198d9cf11c426cbbdd88c5def26057",
       "value": false
      }
     },
     "9620a34b5e034611a1dadc452dd8222b": {
      "model_module": "@jupyter-widgets/base",
      "model_module_version": "2.0.0",
      "model_name": "LayoutModel",
      "state": {}
     },
     "9a9a8955e0764902a3ee8cd6d2f789b9": {
      "model_module": "@jupyter-widgets/controls",
      "model_module_version": "2.0.0",
      "model_name": "VBoxModel",
      "state": {
       "children": [
        "IPY_MODEL_39e267d162b64cd8984cf0dafd8a5ce3",
        "IPY_MODEL_94d5f916a4064ffb974ba14509569915",
        "IPY_MODEL_acfbe1f35f8b4c38bc887e2cdb73381d",
        "IPY_MODEL_0bf5684d1832494fbb677afcc5e70263",
        "IPY_MODEL_79bb33cdd5564557b4ddb85cfac1961b",
        "IPY_MODEL_27e17d4163b540b7b118bac679d35759",
        "IPY_MODEL_c81c94a8c90d4a72afbe246d91741e72",
        "IPY_MODEL_8cd16fd8ef7743ef82f4fed97f9bcda5",
        "IPY_MODEL_1edcafa53eb9454eb78b91549a7ab46c"
       ],
       "layout": "IPY_MODEL_e498096040ce474793d1cb10b6ffd394"
      }
     },
     "9d41fc4274614d209032cb4684d0c830": {
      "model_module": "@jupyter-widgets/controls",
      "model_module_version": "2.0.0",
      "model_name": "NaiveDatetimeModel",
      "state": {
       "description": "date de début",
       "layout": "IPY_MODEL_d02c1d8a056d40fabd591bc057478fb8",
       "style": "IPY_MODEL_0036f63593414227ac76b801f8a99d61",
       "value": {
        "date": 1,
        "hours": 0,
        "milliseconds": 0,
        "minutes": 0,
        "month": 0,
        "seconds": 0,
        "year": 2022
       }
      }
     },
     "9e61a82594c6423093e037650da4628d": {
      "model_module": "@jupyter-widgets/base",
      "model_module_version": "2.0.0",
      "model_name": "LayoutModel",
      "state": {}
     },
     "a01882eac8ee4caab7677d546f579c80": {
      "model_module": "@jupyter-widgets/base",
      "model_module_version": "2.0.0",
      "model_name": "LayoutModel",
      "state": {}
     },
     "a11fa3482edf4cd0b761afeecd6661de": {
      "model_module": "@jupyter-widgets/output",
      "model_module_version": "1.0.0",
      "model_name": "OutputModel",
      "state": {
       "layout": "IPY_MODEL_d31d5f829d40488884ed99bdd6b7268a"
      }
     },
     "a1986d3a9ccc4b40a5030df70daed0bc": {
      "model_module": "@jupyter-widgets/controls",
      "model_module_version": "2.0.0",
      "model_name": "CheckboxModel",
      "state": {
       "description": "Refregirateur3",
       "disabled": false,
       "layout": "IPY_MODEL_57796520033e4e81b3870ca2bc4d28c3",
       "style": "IPY_MODEL_0c44f69a6f2f4d94be6e5cb87eb0e659",
       "value": false
      }
     },
     "a2d480b882d04e59acca358610f171a2": {
      "model_module": "@jupyter-widgets/controls",
      "model_module_version": "2.0.0",
      "model_name": "NaiveDatetimeModel",
      "state": {
       "description": "date de début",
       "layout": "IPY_MODEL_733729c3ad184782bef4f10b0540055c",
       "style": "IPY_MODEL_8533808787fa4299bb2d6dca18f1a645",
       "value": {
        "date": 1,
        "hours": 0,
        "milliseconds": 0,
        "minutes": 0,
        "month": 0,
        "seconds": 0,
        "year": 2022
       }
      }
     },
     "a5a71baec40745b6a8cf089b897460c5": {
      "model_module": "@jupyter-widgets/controls",
      "model_module_version": "2.0.0",
      "model_name": "CheckboxStyleModel",
      "state": {
       "description_width": ""
      }
     },
     "a748c05958d540718877ebdc0a8ec9ef": {
      "model_module": "@jupyter-widgets/base",
      "model_module_version": "2.0.0",
      "model_name": "LayoutModel",
      "state": {}
     },
     "a8d609ec2fd947b6a507971d2f1b1b9f": {
      "model_module": "@jupyter-widgets/base",
      "model_module_version": "2.0.0",
      "model_name": "LayoutModel",
      "state": {}
     },
     "aa686953fd4148dc851b4470c21e14a2": {
      "model_module": "@jupyter-widgets/base",
      "model_module_version": "2.0.0",
      "model_name": "LayoutModel",
      "state": {}
     },
     "ab4647aa9adc4e34b320db6d4fdc2eaa": {
      "model_module": "@jupyter-widgets/base",
      "model_module_version": "2.0.0",
      "model_name": "LayoutModel",
      "state": {}
     },
     "ab507c4217704a369e955748efb717b9": {
      "model_module": "@jupyter-widgets/controls",
      "model_module_version": "2.0.0",
      "model_name": "SliderStyleModel",
      "state": {
       "description_width": ""
      }
     },
     "aca27896ee2040398ca5baa413843efd": {
      "model_module": "@jupyter-widgets/base",
      "model_module_version": "2.0.0",
      "model_name": "LayoutModel",
      "state": {}
     },
     "acdf3383856a453cb9cb2f62c653ff54": {
      "model_module": "@jupyter-widgets/controls",
      "model_module_version": "2.0.0",
      "model_name": "CheckboxStyleModel",
      "state": {
       "description_width": ""
      }
     },
     "acfbe1f35f8b4c38bc887e2cdb73381d": {
      "model_module": "@jupyter-widgets/controls",
      "model_module_version": "2.0.0",
      "model_name": "CheckboxModel",
      "state": {
       "description": "Incubateur2",
       "disabled": false,
       "layout": "IPY_MODEL_351f155718284964aae6d1ca55db13b7",
       "style": "IPY_MODEL_e0c3cab2e271461981b6d2347ebb42b6",
       "value": false
      }
     },
     "adc7b4570a594a0b913716a0809ece51": {
      "model_module": "@jupyter-widgets/controls",
      "model_module_version": "2.0.0",
      "model_name": "CheckboxModel",
      "state": {
       "description": "Preleveur1",
       "disabled": false,
       "layout": "IPY_MODEL_dcd58dccd6ae49f18ab4574a4c54110a",
       "style": "IPY_MODEL_715377570e3d47f2af04eb35a2b09a83",
       "value": false
      }
     },
     "af5cdec8c2ca4f16abfd0ffdfa22ffb6": {
      "model_module": "@jupyter-widgets/base",
      "model_module_version": "2.0.0",
      "model_name": "LayoutModel",
      "state": {}
     },
     "b00e81a7744b4e399a2a433183e529f7": {
      "model_module": "@jupyter-widgets/controls",
      "model_module_version": "2.0.0",
      "model_name": "CheckboxStyleModel",
      "state": {
       "description_width": ""
      }
     },
     "b13fb2e947a345c29b958f3cdf956d29": {
      "model_module": "@jupyter-widgets/controls",
      "model_module_version": "2.0.0",
      "model_name": "CheckboxStyleModel",
      "state": {
       "description_width": ""
      }
     },
     "b1440ef6d90d4714b4a33b94257b79da": {
      "model_module": "@jupyter-widgets/controls",
      "model_module_version": "2.0.0",
      "model_name": "CheckboxStyleModel",
      "state": {
       "description_width": ""
      }
     },
     "b1484083a087454db2ed0294e61c8237": {
      "model_module": "@jupyter-widgets/controls",
      "model_module_version": "2.0.0",
      "model_name": "CheckboxStyleModel",
      "state": {
       "description_width": ""
      }
     },
     "b50e4de21c3c467e83773d17aa9ee2e8": {
      "model_module": "@jupyter-widgets/base",
      "model_module_version": "2.0.0",
      "model_name": "LayoutModel",
      "state": {}
     },
     "b5bb933e6d64461a94886226e3443fa7": {
      "model_module": "@jupyter-widgets/controls",
      "model_module_version": "2.0.0",
      "model_name": "CheckboxModel",
      "state": {
       "description": "Etuve2",
       "disabled": false,
       "layout": "IPY_MODEL_c81d3b762f364d91bb2a7ba5cd0a3291",
       "style": "IPY_MODEL_be68734d4b4d485c81f4ad9adf9e8f39",
       "value": true
      }
     },
     "b6669834ec32411eb7fc8c9c8273d10c": {
      "model_module": "@jupyter-widgets/controls",
      "model_module_version": "2.0.0",
      "model_name": "CheckboxStyleModel",
      "state": {
       "description_width": ""
      }
     },
     "b76358514fc4444aaefe845cfd299dcf": {
      "model_module": "@jupyter-widgets/output",
      "model_module_version": "1.0.0",
      "model_name": "OutputModel",
      "state": {
       "layout": "IPY_MODEL_1c06936dd231489b8b5277545a34953f"
      }
     },
     "b7f7a9c719124add9c7ec0613cb2f193": {
      "model_module": "@jupyter-widgets/base",
      "model_module_version": "2.0.0",
      "model_name": "LayoutModel",
      "state": {}
     },
     "b8298be8f56b49358c0302fcee617be7": {
      "model_module": "@jupyter-widgets/controls",
      "model_module_version": "2.0.0",
      "model_name": "CheckboxModel",
      "state": {
       "description": "Refregirateur5",
       "disabled": false,
       "layout": "IPY_MODEL_c2722398ed5141b69d1d28dd015ad990",
       "style": "IPY_MODEL_07b23463129d45bcac08f3438e798f19",
       "value": false
      }
     },
     "b8cd59cc6c8e43cc8c2f32cd0bfb864a": {
      "model_module": "@jupyter-widgets/controls",
      "model_module_version": "2.0.0",
      "model_name": "CheckboxStyleModel",
      "state": {
       "description_width": ""
      }
     },
     "b9ba3c510e0646178d45bc9c0d6e6009": {
      "model_module": "@jupyter-widgets/base",
      "model_module_version": "2.0.0",
      "model_name": "LayoutModel",
      "state": {}
     },
     "ba14558995e5412a9bc909abd1d2b440": {
      "model_module": "@jupyter-widgets/base",
      "model_module_version": "2.0.0",
      "model_name": "LayoutModel",
      "state": {}
     },
     "ba741fe0109c4fc2add599c9a90f064c": {
      "model_module": "@jupyter-widgets/controls",
      "model_module_version": "2.0.0",
      "model_name": "CheckboxStyleModel",
      "state": {
       "description_width": ""
      }
     },
     "bb4cbf6de45d4925bf78b79f30611f8d": {
      "model_module": "@jupyter-widgets/controls",
      "model_module_version": "2.0.0",
      "model_name": "VBoxModel",
      "state": {
       "children": [
        "IPY_MODEL_f91c2842d47f49fa816fd5b160b8d45e",
        "IPY_MODEL_15b2c5c33ff141f582c0d2d077fa4810",
        "IPY_MODEL_3bf172de6fe648f69b53c62bb5a1323c",
        "IPY_MODEL_58610a67e5894f20ae11effc0f5f2819",
        "IPY_MODEL_d0b22c7bc7e246f39fcfc26618a4f6d4",
        "IPY_MODEL_f80544ba83504f63b321f502c64a5f69",
        "IPY_MODEL_124a6b4e343341cb84ee26cd5ba6f8d0",
        "IPY_MODEL_65ca2411db644d4da1149a156abd718e",
        "IPY_MODEL_c48f10ff7a7c43b2996386e9ea2f94fd"
       ],
       "layout": "IPY_MODEL_77162c8ec1f04983abca315fee1d0f4a"
      }
     },
     "bb80bcbebf7148479f31c9d40ebaabf7": {
      "model_module": "@jupyter-widgets/controls",
      "model_module_version": "2.0.0",
      "model_name": "VBoxModel",
      "state": {
       "children": [
        "IPY_MODEL_9320a849860c4952b9c45fd3b99bed80",
        "IPY_MODEL_7f2897ace49d4ee5822d0d7c6068c1c5",
        "IPY_MODEL_834189b0c09d453cb8854e1e92b3ba05",
        "IPY_MODEL_ce24c6f57cfc453ab051788d30591d08",
        "IPY_MODEL_adc7b4570a594a0b913716a0809ece51",
        "IPY_MODEL_7e79de2f76c4489380c86af14fff3647",
        "IPY_MODEL_3a69e3e789464666aff54ca1f1a72a69",
        "IPY_MODEL_a1986d3a9ccc4b40a5030df70daed0bc",
        "IPY_MODEL_108568c7cffd46fcbb9264eb99254984",
        "IPY_MODEL_fec0d289452b4bc88aa783301302b87c"
       ],
       "layout": "IPY_MODEL_cd41a5bb32ca46f6bb4e5a85f8836062"
      }
     },
     "be417218e4694f3791f33857d9f37a1b": {
      "model_module": "@jupyter-widgets/controls",
      "model_module_version": "2.0.0",
      "model_name": "NaiveDatetimeModel",
      "state": {
       "description": "date de fin",
       "layout": "IPY_MODEL_5321c95736974624927ee9002e5879c4",
       "style": "IPY_MODEL_d8f7a0b316fe41e396dd6bd0fa5cf799",
       "value": {
        "date": 1,
        "hours": 0,
        "milliseconds": 0,
        "minutes": 0,
        "month": 1,
        "seconds": 0,
        "year": 2022
       }
      }
     },
     "be68734d4b4d485c81f4ad9adf9e8f39": {
      "model_module": "@jupyter-widgets/controls",
      "model_module_version": "2.0.0",
      "model_name": "CheckboxStyleModel",
      "state": {
       "description_width": ""
      }
     },
     "bf80faa236e940158c7ea1e3d76a55c1": {
      "model_module": "@jupyter-widgets/controls",
      "model_module_version": "2.0.0",
      "model_name": "AccordionModel",
      "state": {
       "children": [
        "IPY_MODEL_f699c1afd5a844f0a9d160ca7961afe6"
       ],
       "layout": "IPY_MODEL_0debb751e6cf43d4a4a4b4d881eebd65",
       "titles": [
        "Machines à afficher"
       ]
      }
     },
     "bfc73198f1e243a799b7475bb9c5f195": {
      "model_module": "@jupyter-widgets/controls",
      "model_module_version": "2.0.0",
      "model_name": "CheckboxModel",
      "state": {
       "description": "Refregirateur3",
       "disabled": false,
       "layout": "IPY_MODEL_41b192e0444b407ba7a5bff801780990",
       "style": "IPY_MODEL_048a599963e64f9a9562e78cedfbdea0",
       "value": false
      }
     },
     "c14d341ad2884e5b8243fb3c04b691be": {
      "model_module": "@jupyter-widgets/base",
      "model_module_version": "2.0.0",
      "model_name": "LayoutModel",
      "state": {}
     },
     "c26e39cb9c154c329d586f9349cd989b": {
      "model_module": "@jupyter-widgets/controls",
      "model_module_version": "2.0.0",
      "model_name": "CheckboxModel",
      "state": {
       "description": "Preleveur1",
       "disabled": false,
       "layout": "IPY_MODEL_8de855795e5d4a158393c603a669f32f",
       "style": "IPY_MODEL_121e75e74b694abd9bb8f482f947f81f",
       "value": false
      }
     },
     "c2722398ed5141b69d1d28dd015ad990": {
      "model_module": "@jupyter-widgets/base",
      "model_module_version": "2.0.0",
      "model_name": "LayoutModel",
      "state": {}
     },
     "c357565b81694918a5a3a9bd76c0776d": {
      "model_module": "@jupyter-widgets/base",
      "model_module_version": "2.0.0",
      "model_name": "LayoutModel",
      "state": {}
     },
     "c3d8ba691b0f43b894de74d23645be79": {
      "model_module": "@jupyter-widgets/base",
      "model_module_version": "2.0.0",
      "model_name": "LayoutModel",
      "state": {}
     },
     "c48f10ff7a7c43b2996386e9ea2f94fd": {
      "model_module": "@jupyter-widgets/controls",
      "model_module_version": "2.0.0",
      "model_name": "CheckboxModel",
      "state": {
       "description": "Refregirateur5",
       "disabled": false,
       "layout": "IPY_MODEL_8596b827437f421fa222a07df8ad12fe",
       "style": "IPY_MODEL_5fa8c6d5cf0043c6acab3a1324ee82f4",
       "value": false
      }
     },
     "c51785614c924a25952f6d535d620672": {
      "model_module": "@jupyter-widgets/base",
      "model_module_version": "2.0.0",
      "model_name": "LayoutModel",
      "state": {}
     },
     "c52eea56ce8e49d3af53c870af1b5544": {
      "model_module": "@jupyter-widgets/controls",
      "model_module_version": "2.0.0",
      "model_name": "CheckboxStyleModel",
      "state": {
       "description_width": ""
      }
     },
     "c565ef47e1854dda9805505eaa8d8b49": {
      "model_module": "@jupyter-widgets/controls",
      "model_module_version": "2.0.0",
      "model_name": "DescriptionStyleModel",
      "state": {
       "description_width": ""
      }
     },
     "c56bb8d058e74add94b2a5f7a7b0a706": {
      "model_module": "@jupyter-widgets/controls",
      "model_module_version": "2.0.0",
      "model_name": "FloatRangeSliderModel",
      "state": {
       "_model_name": "FloatRangeSliderModel",
       "_view_name": "FloatRangeSliderView",
       "behavior": "drag-tap",
       "description": "limites des valeurs",
       "layout": "IPY_MODEL_20e1e1acdbc74100a4247ac45fd4b4a5",
       "max": 120,
       "readout_format": ".1f",
       "step": 0.1,
       "style": "IPY_MODEL_ab507c4217704a369e955748efb717b9",
       "value": [
        100,
        120
       ]
      }
     },
     "c609f344b0244ce3bd383f7c43270feb": {
      "model_module": "@jupyter-widgets/controls",
      "model_module_version": "2.0.0",
      "model_name": "CheckboxModel",
      "state": {
       "description": "Incubateur1",
       "disabled": false,
       "layout": "IPY_MODEL_841ea4802b364062bac517f97210ae3f",
       "style": "IPY_MODEL_f96bb884ff6348bf9eb2aa516cc6c752",
       "value": false
      }
     },
     "c64e5425014f4b6f9c1f30a7b9d23a1b": {
      "model_module": "@jupyter-widgets/controls",
      "model_module_version": "2.0.0",
      "model_name": "CheckboxStyleModel",
      "state": {
       "description_width": ""
      }
     },
     "c6b4d5353eb24b8bbbcbdc9a55744d8d": {
      "model_module": "@jupyter-widgets/base",
      "model_module_version": "2.0.0",
      "model_name": "LayoutModel",
      "state": {}
     },
     "c7141f3b7fe84070aae44d2cc20d4c4c": {
      "model_module": "@jupyter-widgets/base",
      "model_module_version": "2.0.0",
      "model_name": "LayoutModel",
      "state": {}
     },
     "c78026fbf2c4425095374a627fb92b5d": {
      "model_module": "@jupyter-widgets/controls",
      "model_module_version": "2.0.0",
      "model_name": "CheckboxStyleModel",
      "state": {
       "description_width": ""
      }
     },
     "c81c94a8c90d4a72afbe246d91741e72": {
      "model_module": "@jupyter-widgets/controls",
      "model_module_version": "2.0.0",
      "model_name": "CheckboxModel",
      "state": {
       "description": "Refregirateur3",
       "disabled": false,
       "layout": "IPY_MODEL_aa686953fd4148dc851b4470c21e14a2",
       "style": "IPY_MODEL_d7f03ea2a2c143328e20da863525f53c",
       "value": false
      }
     },
     "c81d3b762f364d91bb2a7ba5cd0a3291": {
      "model_module": "@jupyter-widgets/base",
      "model_module_version": "2.0.0",
      "model_name": "LayoutModel",
      "state": {}
     },
     "ca1c6a450f494ec0933b369b4783b6a0": {
      "model_module": "@jupyter-widgets/base",
      "model_module_version": "2.0.0",
      "model_name": "LayoutModel",
      "state": {}
     },
     "ca8c5ab7da4c4a06aee486e060b91786": {
      "model_module": "@jupyter-widgets/base",
      "model_module_version": "2.0.0",
      "model_name": "LayoutModel",
      "state": {}
     },
     "cb3d4590e7d84be39e5193c621c5100e": {
      "model_module": "@jupyter-widgets/output",
      "model_module_version": "1.0.0",
      "model_name": "OutputModel",
      "state": {
       "layout": "IPY_MODEL_d048b83a86974c88bb52e80fb2d0bf5e"
      }
     },
     "cd41a5bb32ca46f6bb4e5a85f8836062": {
      "model_module": "@jupyter-widgets/base",
      "model_module_version": "2.0.0",
      "model_name": "LayoutModel",
      "state": {}
     },
     "ce13ab63c12b4a43b8e8db1b8ad49813": {
      "model_module": "@jupyter-widgets/controls",
      "model_module_version": "2.0.0",
      "model_name": "CheckboxStyleModel",
      "state": {
       "description_width": ""
      }
     },
     "ce24c6f57cfc453ab051788d30591d08": {
      "model_module": "@jupyter-widgets/controls",
      "model_module_version": "2.0.0",
      "model_name": "CheckboxModel",
      "state": {
       "description": "Incubateur2",
       "disabled": false,
       "layout": "IPY_MODEL_42605f63d70f49ebbc4897049e432127",
       "style": "IPY_MODEL_b1440ef6d90d4714b4a33b94257b79da",
       "value": false
      }
     },
     "ce3cfd084af849f8b2d533e6e45de382": {
      "model_module": "@jupyter-widgets/controls",
      "model_module_version": "2.0.0",
      "model_name": "NaiveDatetimeModel",
      "state": {
       "description": "date de fin",
       "layout": "IPY_MODEL_ee113394d54846ff88fc6bd582db9f36",
       "style": "IPY_MODEL_e5374ea1e08845b58aad9ea5facde336",
       "value": {
        "date": 15,
        "hours": 16,
        "milliseconds": 0,
        "minutes": 40,
        "month": 8,
        "seconds": 0,
        "year": 2022
       }
      }
     },
     "d02663d875974aeb9852b3f6f1b9cf41": {
      "model_module": "@jupyter-widgets/controls",
      "model_module_version": "2.0.0",
      "model_name": "CheckboxStyleModel",
      "state": {
       "description_width": ""
      }
     },
     "d02c1d8a056d40fabd591bc057478fb8": {
      "model_module": "@jupyter-widgets/base",
      "model_module_version": "2.0.0",
      "model_name": "LayoutModel",
      "state": {}
     },
     "d048b83a86974c88bb52e80fb2d0bf5e": {
      "model_module": "@jupyter-widgets/base",
      "model_module_version": "2.0.0",
      "model_name": "LayoutModel",
      "state": {}
     },
     "d0b22c7bc7e246f39fcfc26618a4f6d4": {
      "model_module": "@jupyter-widgets/controls",
      "model_module_version": "2.0.0",
      "model_name": "CheckboxModel",
      "state": {
       "description": "Refregirateur1",
       "disabled": false,
       "layout": "IPY_MODEL_26895f371fc54a71b06158c1f4020dba",
       "style": "IPY_MODEL_c52eea56ce8e49d3af53c870af1b5544",
       "value": false
      }
     },
     "d22dcda5439b4630931292b74b2523a7": {
      "model_module": "@jupyter-widgets/controls",
      "model_module_version": "2.0.0",
      "model_name": "CheckboxStyleModel",
      "state": {
       "description_width": ""
      }
     },
     "d30630f191f74ea591e042486f2b5d4e": {
      "model_module": "@jupyter-widgets/base",
      "model_module_version": "2.0.0",
      "model_name": "LayoutModel",
      "state": {}
     },
     "d31d5f829d40488884ed99bdd6b7268a": {
      "model_module": "@jupyter-widgets/base",
      "model_module_version": "2.0.0",
      "model_name": "LayoutModel",
      "state": {}
     },
     "d3b0a63bdaa544c1bf378f4befae50db": {
      "model_module": "@jupyter-widgets/controls",
      "model_module_version": "2.0.0",
      "model_name": "CheckboxStyleModel",
      "state": {
       "description_width": ""
      }
     },
     "d3fb30e5d1c6497da12ac1c8e276518f": {
      "model_module": "@jupyter-widgets/output",
      "model_module_version": "1.0.0",
      "model_name": "OutputModel",
      "state": {
       "layout": "IPY_MODEL_f15a54c9435c449fa578fd9fe4dc0b16"
      }
     },
     "d6dbde3e4e8d40ed845f9aed578166a7": {
      "model_module": "@jupyter-widgets/controls",
      "model_module_version": "2.0.0",
      "model_name": "AccordionModel",
      "state": {
       "children": [
        "IPY_MODEL_bb80bcbebf7148479f31c9d40ebaabf7"
       ],
       "layout": "IPY_MODEL_9e61a82594c6423093e037650da4628d",
       "titles": [
        "Machines à afficher"
       ]
      }
     },
     "d758043449734efda3679d003726f1a7": {
      "model_module": "@jupyter-widgets/controls",
      "model_module_version": "2.0.0",
      "model_name": "DescriptionStyleModel",
      "state": {
       "description_width": ""
      }
     },
     "d7bb13fef2dc452a98d689479185ef22": {
      "model_module": "@jupyter-widgets/controls",
      "model_module_version": "2.0.0",
      "model_name": "VBoxModel",
      "state": {
       "children": [
        "IPY_MODEL_241d70a18d1f4c19b86df346c1a39f94",
        "IPY_MODEL_3e9cb1ca35304e02b6be0f188e55d6dc",
        "IPY_MODEL_c609f344b0244ce3bd383f7c43270feb",
        "IPY_MODEL_e8724152b9284587ba1028d95c8c02b7",
        "IPY_MODEL_c26e39cb9c154c329d586f9349cd989b",
        "IPY_MODEL_75e23cf13b56412f95fd1d79bfd911dd",
        "IPY_MODEL_d88bb4b3184c4e05a6b80e40e0813958",
        "IPY_MODEL_3f3813bca6514f99b63942f969b8466e",
        "IPY_MODEL_961cbbf5df554124858f4c92d7571e75",
        "IPY_MODEL_38760438ab8a4819b49906cdf4983553"
       ],
       "layout": "IPY_MODEL_90db799ab6f44e9ba99debb70481129d"
      }
     },
     "d7f03ea2a2c143328e20da863525f53c": {
      "model_module": "@jupyter-widgets/controls",
      "model_module_version": "2.0.0",
      "model_name": "CheckboxStyleModel",
      "state": {
       "description_width": ""
      }
     },
     "d88bb4b3184c4e05a6b80e40e0813958": {
      "model_module": "@jupyter-widgets/controls",
      "model_module_version": "2.0.0",
      "model_name": "CheckboxModel",
      "state": {
       "description": "Refregirateur2",
       "disabled": false,
       "layout": "IPY_MODEL_36219e4e72d7485a949ace7d3b04bdd0",
       "style": "IPY_MODEL_1f2267f6b9db4b29a2aa1bfc51117204",
       "value": false
      }
     },
     "d8a318a510fc47c18b6e59abb06d847f": {
      "model_module": "@jupyter-widgets/base",
      "model_module_version": "2.0.0",
      "model_name": "LayoutModel",
      "state": {}
     },
     "d8f7a0b316fe41e396dd6bd0fa5cf799": {
      "model_module": "@jupyter-widgets/controls",
      "model_module_version": "2.0.0",
      "model_name": "DescriptionStyleModel",
      "state": {
       "description_width": ""
      }
     },
     "d97330dd0b21401aa905af34034bcd07": {
      "model_module": "@jupyter-widgets/controls",
      "model_module_version": "2.0.0",
      "model_name": "NaiveDatetimeModel",
      "state": {
       "description": "date de fin",
       "layout": "IPY_MODEL_58c0ba2c8d2545a7a57645e86ec41ea5",
       "style": "IPY_MODEL_f7db5aa67a31469d8e32e84332785ea9",
       "value": {
        "date": 1,
        "hours": 0,
        "milliseconds": 0,
        "minutes": 0,
        "month": 1,
        "seconds": 0,
        "year": 2022
       }
      }
     },
     "dbc01221662a4a8b88eb03219ada32bc": {
      "model_module": "@jupyter-widgets/controls",
      "model_module_version": "2.0.0",
      "model_name": "CheckboxModel",
      "state": {
       "description": "Etuve1",
       "disabled": false,
       "layout": "IPY_MODEL_268e3f9fb7d742339c809f2571f441b8",
       "style": "IPY_MODEL_3e05d0ae042d4fb4afadee4da902781f",
       "value": true
      }
     },
     "dcd58dccd6ae49f18ab4574a4c54110a": {
      "model_module": "@jupyter-widgets/base",
      "model_module_version": "2.0.0",
      "model_name": "LayoutModel",
      "state": {}
     },
     "dd2b5f43dc9c44019bec7f68cc878ff5": {
      "model_module": "@jupyter-widgets/controls",
      "model_module_version": "2.0.0",
      "model_name": "CheckboxModel",
      "state": {
       "description": "Etuve2",
       "disabled": false,
       "layout": "IPY_MODEL_4a6a6883922a4ff8b7df4850873aad0f",
       "style": "IPY_MODEL_266154fd5c51410cbc27c7da359ef451",
       "value": true
      }
     },
     "e0c3cab2e271461981b6d2347ebb42b6": {
      "model_module": "@jupyter-widgets/controls",
      "model_module_version": "2.0.0",
      "model_name": "CheckboxStyleModel",
      "state": {
       "description_width": ""
      }
     },
     "e0e1349ac26a46a8b0db973a55ce4d9f": {
      "model_module": "@jupyter-widgets/controls",
      "model_module_version": "2.0.0",
      "model_name": "CheckboxStyleModel",
      "state": {
       "description_width": ""
      }
     },
     "e180555767574d12be117bba4f643ee2": {
      "model_module": "@jupyter-widgets/base",
      "model_module_version": "2.0.0",
      "model_name": "LayoutModel",
      "state": {}
     },
     "e3873ad5e28640dbbfeb48e132e025f9": {
      "model_module": "@jupyter-widgets/controls",
      "model_module_version": "2.0.0",
      "model_name": "VBoxModel",
      "state": {
       "children": [
        "IPY_MODEL_01e7691c0484401eb83cd25d623124ce",
        "IPY_MODEL_dd2b5f43dc9c44019bec7f68cc878ff5",
        "IPY_MODEL_43ef411f58f94b068c1744b409a5cdff",
        "IPY_MODEL_497326f5f6a048b8bb53425d509043d9",
        "IPY_MODEL_5d191c4932b944c4a337527c377136a8",
        "IPY_MODEL_12286ba5d94a48818f84d2b5535d3f82",
        "IPY_MODEL_76d0249013bc4f3091e96ef1f9588fcd",
        "IPY_MODEL_46736cd02b7641f0af7b79e3f1fa8f32",
        "IPY_MODEL_4eb74dd3c62f40a5beb68092f8d37ceb",
        "IPY_MODEL_32ad1acdc89a4a4db17a2f2d3d51c32c"
       ],
       "layout": "IPY_MODEL_d8a318a510fc47c18b6e59abb06d847f"
      }
     },
     "e498096040ce474793d1cb10b6ffd394": {
      "model_module": "@jupyter-widgets/base",
      "model_module_version": "2.0.0",
      "model_name": "LayoutModel",
      "state": {}
     },
     "e5374ea1e08845b58aad9ea5facde336": {
      "model_module": "@jupyter-widgets/controls",
      "model_module_version": "2.0.0",
      "model_name": "DescriptionStyleModel",
      "state": {
       "description_width": ""
      }
     },
     "e681c081aa3e4d9caf869c169eda149d": {
      "model_module": "@jupyter-widgets/output",
      "model_module_version": "1.0.0",
      "model_name": "OutputModel",
      "state": {
       "layout": "IPY_MODEL_5075224ae8504e92add74fbd8483824c"
      }
     },
     "e76df2af956e461d98ce943d2aded0c8": {
      "model_module": "@jupyter-widgets/base",
      "model_module_version": "2.0.0",
      "model_name": "LayoutModel",
      "state": {}
     },
     "e7847a73f8e14355878b097baf40477f": {
      "model_module": "@jupyter-widgets/base",
      "model_module_version": "2.0.0",
      "model_name": "LayoutModel",
      "state": {}
     },
     "e7b8d431002d4dc494505d2c4998d990": {
      "model_module": "@jupyter-widgets/controls",
      "model_module_version": "2.0.0",
      "model_name": "SliderStyleModel",
      "state": {
       "description_width": ""
      }
     },
     "e7f11b6bb8c74518b09b7b4ca418b4ec": {
      "model_module": "@jupyter-widgets/base",
      "model_module_version": "2.0.0",
      "model_name": "LayoutModel",
      "state": {}
     },
     "e8724152b9284587ba1028d95c8c02b7": {
      "model_module": "@jupyter-widgets/controls",
      "model_module_version": "2.0.0",
      "model_name": "CheckboxModel",
      "state": {
       "description": "Incubateur2",
       "disabled": false,
       "layout": "IPY_MODEL_ca1c6a450f494ec0933b369b4783b6a0",
       "style": "IPY_MODEL_ba741fe0109c4fc2add599c9a90f064c",
       "value": false
      }
     },
     "ea87b340e5a34b5b81af4a8c95f8e2e8": {
      "model_module": "@jupyter-widgets/base",
      "model_module_version": "2.0.0",
      "model_name": "LayoutModel",
      "state": {}
     },
     "ea912c0e6aaf41bf887187ecdc0b71d4": {
      "model_module": "@jupyter-widgets/controls",
      "model_module_version": "2.0.0",
      "model_name": "CheckboxStyleModel",
      "state": {
       "description_width": ""
      }
     },
     "eb06e3f462594dd0b8cf3892fc45d182": {
      "model_module": "@jupyter-widgets/base",
      "model_module_version": "2.0.0",
      "model_name": "LayoutModel",
      "state": {}
     },
     "ee113394d54846ff88fc6bd582db9f36": {
      "model_module": "@jupyter-widgets/base",
      "model_module_version": "2.0.0",
      "model_name": "LayoutModel",
      "state": {}
     },
     "ef03735a0be74df7a628f935839a064c": {
      "model_module": "@jupyter-widgets/base",
      "model_module_version": "2.0.0",
      "model_name": "LayoutModel",
      "state": {}
     },
     "f15a54c9435c449fa578fd9fe4dc0b16": {
      "model_module": "@jupyter-widgets/base",
      "model_module_version": "2.0.0",
      "model_name": "LayoutModel",
      "state": {}
     },
     "f1e386c24b014d0fb106b789da3327b4": {
      "model_module": "@jupyter-widgets/base",
      "model_module_version": "2.0.0",
      "model_name": "LayoutModel",
      "state": {}
     },
     "f534926ab7a84a0181ece61aea132132": {
      "model_module": "@jupyter-widgets/controls",
      "model_module_version": "2.0.0",
      "model_name": "SliderStyleModel",
      "state": {
       "description_width": ""
      }
     },
     "f699c1afd5a844f0a9d160ca7961afe6": {
      "model_module": "@jupyter-widgets/controls",
      "model_module_version": "2.0.0",
      "model_name": "VBoxModel",
      "state": {
       "children": [
        "IPY_MODEL_dbc01221662a4a8b88eb03219ada32bc",
        "IPY_MODEL_b5bb933e6d64461a94886226e3443fa7",
        "IPY_MODEL_f6fe74b2d4f745ad841f4c71fb95fb42",
        "IPY_MODEL_8555723f49aa43caaac563a94c5c70bf",
        "IPY_MODEL_33c6b3112770402998ce1e2e48614dc1",
        "IPY_MODEL_3c7cb1d45361464b8db126ca356f8b6d",
        "IPY_MODEL_66f83d2daf684690b4a31b94594c6481",
        "IPY_MODEL_bfc73198f1e243a799b7475bb9c5f195",
        "IPY_MODEL_6d773aba84c44608a8ece06a54514d26",
        "IPY_MODEL_b8298be8f56b49358c0302fcee617be7"
       ],
       "layout": "IPY_MODEL_4f409a3faf324a81839002f7770bd0fb"
      }
     },
     "f6fe74b2d4f745ad841f4c71fb95fb42": {
      "model_module": "@jupyter-widgets/controls",
      "model_module_version": "2.0.0",
      "model_name": "CheckboxModel",
      "state": {
       "description": "Incubateur1",
       "disabled": false,
       "layout": "IPY_MODEL_71fd23b4213d4c608fd54587f53841c5",
       "style": "IPY_MODEL_7972614df3a94f6c961888fda446bf7e",
       "value": false
      }
     },
     "f7db5aa67a31469d8e32e84332785ea9": {
      "model_module": "@jupyter-widgets/controls",
      "model_module_version": "2.0.0",
      "model_name": "DescriptionStyleModel",
      "state": {
       "description_width": ""
      }
     },
     "f80544ba83504f63b321f502c64a5f69": {
      "model_module": "@jupyter-widgets/controls",
      "model_module_version": "2.0.0",
      "model_name": "CheckboxModel",
      "state": {
       "description": "Refregirateur2",
       "disabled": false,
       "layout": "IPY_MODEL_67b45a9d0e1c417d939f62862673a2ed",
       "style": "IPY_MODEL_b00e81a7744b4e399a2a433183e529f7",
       "value": false
      }
     },
     "f80f52a21cd44c2690008ba2fec25bb4": {
      "model_module": "@jupyter-widgets/base",
      "model_module_version": "2.0.0",
      "model_name": "LayoutModel",
      "state": {}
     },
     "f8ec3a8456d040849a2e6b778b98cf94": {
      "model_module": "@jupyter-widgets/controls",
      "model_module_version": "2.0.0",
      "model_name": "AccordionModel",
      "state": {
       "children": [
        "IPY_MODEL_d7bb13fef2dc452a98d689479185ef22"
       ],
       "layout": "IPY_MODEL_9620a34b5e034611a1dadc452dd8222b",
       "titles": [
        "Machines à afficher"
       ]
      }
     },
     "f9002bc9b4554c2f8141db5d211a37c6": {
      "model_module": "@jupyter-widgets/output",
      "model_module_version": "1.0.0",
      "model_name": "OutputModel",
      "state": {
       "layout": "IPY_MODEL_a01882eac8ee4caab7677d546f579c80"
      }
     },
     "f91c2842d47f49fa816fd5b160b8d45e": {
      "model_module": "@jupyter-widgets/controls",
      "model_module_version": "2.0.0",
      "model_name": "CheckboxModel",
      "state": {
       "description": "Etuve2",
       "disabled": false,
       "layout": "IPY_MODEL_911038fdd61544bc9a125639ed0500fb",
       "style": "IPY_MODEL_fa00c198d2ca474298f1c39d183aa99a",
       "value": false
      }
     },
     "f96bb884ff6348bf9eb2aa516cc6c752": {
      "model_module": "@jupyter-widgets/controls",
      "model_module_version": "2.0.0",
      "model_name": "CheckboxStyleModel",
      "state": {
       "description_width": ""
      }
     },
     "fa00c198d2ca474298f1c39d183aa99a": {
      "model_module": "@jupyter-widgets/controls",
      "model_module_version": "2.0.0",
      "model_name": "CheckboxStyleModel",
      "state": {
       "description_width": ""
      }
     },
     "fec0d289452b4bc88aa783301302b87c": {
      "model_module": "@jupyter-widgets/controls",
      "model_module_version": "2.0.0",
      "model_name": "CheckboxModel",
      "state": {
       "description": "Refregirateur5",
       "disabled": false,
       "layout": "IPY_MODEL_ef03735a0be74df7a628f935839a064c",
       "style": "IPY_MODEL_acdf3383856a453cb9cb2f62c653ff54",
       "value": false
      }
     },
     "ff61a176262f4e21b790c81340a06392": {
      "model_module": "@jupyter-widgets/base",
      "model_module_version": "2.0.0",
      "model_name": "LayoutModel",
      "state": {}
     }
    },
    "version_major": 2,
    "version_minor": 0
   }
  }
 },
 "nbformat": 4,
 "nbformat_minor": 5
}
